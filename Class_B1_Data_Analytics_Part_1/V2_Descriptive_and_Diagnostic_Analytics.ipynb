{
 "cells": [
  {
   "cell_type": "markdown",
   "metadata": {
    "slideshow": {
     "slide_type": "slide"
    }
   },
   "source": [
    "# Data Analytics Part 1: Descriptive Analytics and Clustering"
   ]
  },
  {
   "cell_type": "markdown",
   "metadata": {
    "slideshow": {
     "slide_type": "slide"
    },
    "tags": []
   },
   "source": [
    "## Overview"
   ]
  },
  {
   "cell_type": "markdown",
   "metadata": {},
   "source": [
    "In this chapter, we will learn how to conduct various types of exploratory and descriptive analytics. Besides getting a general understanding of the data and the relationships between the included variables, the central question here is **\"What happened?\"**\n",
    "\n",
    "In the iterative Data Analytics lifecycle, this is typically part of the \"Data Understanding\" and \"Data Preparation\" stages.\n",
    "\n",
    "<img src=\"Lifecycle_DataPrep.png\" width=90%>"
   ]
  },
  {
   "cell_type": "markdown",
   "metadata": {
    "slideshow": {
     "slide_type": "slide"
    },
    "tags": []
   },
   "source": [
    "## Scenario: Library "
   ]
  },
  {
   "cell_type": "markdown",
   "metadata": {},
   "source": [
    "\n",
    "<img src=\"https://www.wu.ac.at/fileadmin/wu/_processed_/9/e/csm_LC_aussen_079afb21f1.jpg\">\n",
    "For this first part and the remaining Python tutorials, we will use datasets from our university library. \n",
    "\n",
    "Specifically, we want to investigate library visitors and lending behavior, i.e., when visitors go through the main library entrances, what (type of) books they borrow, and other related questions.\n",
    "\n",
    "From a business understanding perspective, we want to **better understand our clients (students, university employees, visitors) and their needs (when they visit, what type of books they request, etc.)**. \n",
    "\n",
    "In a further step, we might also want to investigate **why certain book types are returned too late, and if there are factors that increase the probability of a late book return**. This will be covered in the next chapters."
   ]
  },
  {
   "cell_type": "markdown",
   "metadata": {
    "slideshow": {
     "slide_type": "slide"
    },
    "tags": []
   },
   "source": [
    "### Types of Analytics"
   ]
  },
  {
   "cell_type": "markdown",
   "metadata": {},
   "source": [
    "<img src=\"TypesOfAnalytics.png\">\n",
    "\n",
    "Different Types of Analytics Goals, from Delen, D., & Ram, S. (2018). Research challenges and opportunities in business analytics. Journal of Business Analytics, 1(1), 2-12. "
   ]
  },
  {
   "cell_type": "markdown",
   "metadata": {
    "slideshow": {
     "slide_type": "slide"
    },
    "tags": []
   },
   "source": [
    "### Side note: Translating Business Understanding into a Data Analytics Problem"
   ]
  },
  {
   "cell_type": "markdown",
   "metadata": {},
   "source": [
    "Now that we know that the library is interested in better understanding its customers, we can start to convert this business goal into a project that can be tackled through data analytics. \n",
    "\n",
    "Here, let's assume that the lirbrary has two main objectives: \n",
    "\n",
    "1. Understand its customer base, when and how often they visit the library, and how busy the library is in general. \n",
    "\n",
    "1. Better understand why certain books are returned after the return deadline, and assess if there are factors that increase (or decrease) the likelihood of books being returned too late.\n"
   ]
  },
  {
   "cell_type": "markdown",
   "metadata": {
    "slideshow": {
     "slide_type": "slide"
    }
   },
   "source": [
    "The first part of the first goal, understanding the general customer base and its behavior, will be tackled by **Exploratory Data Analysis**. For example, we analyze when customers show up, if different customer types have different visiting behavior, and so on. \n",
    "\n",
    "<div class=\"alert alert-block alert-info\">\n",
    "<strong>Exploratory Data Analysis:</strong>\n",
    "As part of Data Understanding, the term \"Exploratory Data Analysis\" (EDA) captures a wide set of initial activities to understand the data, variables, their relationships, find patterns and/or anomalies, check assumptions, and related tasks. EDA employs methods from descriptive statistics, particularly numerical and graphical summaries of data, for this goal.\n",
    "</div>\n",
    "\n",
    "For the second goal, we have several potential target variables: either a binary **Late Return** with two potential values: Yes, or No; or a continuous target variable **Days Late**, which measures the number of days a book is returned late. Hence, we either have a binary variable that we want to predict, or a continuous target variable. From a Data Analytics perspective, the first problem falls under the category of **classification**, whereas the second problems falls under the general domain of **regression** problems. Given a set of characteristics (variables), we want to predict the target (variable, here either Late Return or Days Late).\n"
   ]
  },
  {
   "cell_type": "markdown",
   "metadata": {
    "slideshow": {
     "slide_type": "slide"
    },
    "tags": []
   },
   "source": [
    "# Data Understanding, Data Preparation, and Exploratory Data Analytics"
   ]
  },
  {
   "cell_type": "markdown",
   "metadata": {},
   "source": [
    "In the first step, **Business Understanding**, we have identified the two goals of our Data Analytics project: Understanding the customer base that visits the library, and predicting if a book is going to be returned late or not.\n",
    "\n",
    "As a next step, **Data Understanding** now aims to investigate what data we have available, what the available variables actually mean/represent, and if the available data are sufficient to address the goals of the project (note: you might not be able to fully answer the suitability question during the first iteration of the lifecycle. Sometimes, after evaluating how well we are able to predict customer churn, we might see that the available variables are not sufficient to create a good model, which can then lead to additional data being included in the project scope).\n",
    "\n",
    "Let's start by loading the dataset and investigating its basic characteristics."
   ]
  },
  {
   "cell_type": "markdown",
   "metadata": {
    "slideshow": {
     "slide_type": "slide"
    },
    "tags": []
   },
   "source": [
    "## Load data"
   ]
  },
  {
   "cell_type": "markdown",
   "metadata": {
    "slideshow": {
     "slide_type": "fragment"
    }
   },
   "source": [
    "We have several interesting datasets available from the WU library as well as Open Data on rooms, organizations, and room bookings. Let's load them into Python objects first"
   ]
  },
  {
   "cell_type": "code",
   "execution_count": 1,
   "metadata": {
    "ExecuteTime": {
     "end_time": "2024-03-08T13:27:04.524597Z",
     "start_time": "2024-03-08T13:26:59.057141Z"
    },
    "slideshow": {
     "slide_type": "fragment"
    }
   },
   "outputs": [
    {
     "name": "stderr",
     "output_type": "stream",
     "text": [
      "/opt/conda/lib/python3.10/site-packages/pandas/core/computation/expressions.py:21: UserWarning: Pandas requires version '2.8.4' or newer of 'numexpr' (version '2.8.3' currently installed).\n",
      "  from pandas.core.computation.check import NUMEXPR_INSTALLED\n",
      "/opt/conda/lib/python3.10/site-packages/pandas/core/arrays/masked.py:60: UserWarning: Pandas requires version '1.3.6' or newer of 'bottleneck' (version '1.3.5' currently installed).\n",
      "  from pandas.core import (\n"
     ]
    }
   ],
   "source": [
    "import pandas as pd\n",
    "from pathlib import Path\n",
    "\n",
    "# The visitor data is separated into multiple csv files. \n",
    "# To load all of it, we create a list of files ending with .csv and concatenate all of them into a single file:\n",
    "path_to_data = \"../Data\"\n",
    "\n",
    "filelist = Path(path_to_data + \"/Drehkreuzdaten/LC Rohdaten 2019_2022/\").glob(\"**/*.csv\")\n",
    "\n",
    "df_list = []\n",
    "for file in filelist:\n",
    "    str_file = str(file)\n",
    "\n",
    "    # read in the csv files into data frames and append them to the list\n",
    "    df_list.append(pd.read_csv(str_file, sep=\";\", encoding=\"utf-16\"))\n",
    "\n",
    "# Finally, concatenate the individual data frames into a single data frame\n",
    "drehkreuz = pd.concat(df_list, ignore_index=True)\n",
    "\n",
    "# for the library, we can also load the book reservations\n",
    "lib_loan = pd.read_csv(path_to_data + \"/LoanDataSample.csv\", sep=\",\",encoding='latin')"
   ]
  },
  {
   "cell_type": "markdown",
   "metadata": {
    "slideshow": {
     "slide_type": "slide"
    },
    "tags": []
   },
   "source": [
    "## Inspect data"
   ]
  },
  {
   "cell_type": "markdown",
   "metadata": {
    "slideshow": {
     "slide_type": "fragment"
    }
   },
   "source": [
    "Here, we can investigate the basic properties of the data. Let's start by looking at what variables are included in the Drehkreuz dataset."
   ]
  },
  {
   "cell_type": "code",
   "execution_count": 2,
   "metadata": {
    "ExecuteTime": {
     "end_time": "2024-03-08T13:27:04.527019Z",
     "start_time": "2024-03-08T13:27:01.669616Z"
    },
    "slideshow": {
     "slide_type": "fragment"
    }
   },
   "outputs": [
    {
     "name": "stdout",
     "output_type": "stream",
     "text": [
      "<class 'pandas.core.frame.DataFrame'>\n",
      "RangeIndex: 751337 entries, 0 to 751336\n",
      "Data columns (total 5 columns):\n",
      " #   Column                 Non-Null Count   Dtype \n",
      "---  ------                 --------------   ----- \n",
      " 0   Kategorie Zielbereich  751337 non-null  object\n",
      " 1   Datum                  751337 non-null  object\n",
      " 2   Zeit                   751337 non-null  object\n",
      " 3   Anzahl                 751337 non-null  object\n",
      " 4   Pnr                    751337 non-null  object\n",
      "dtypes: object(5)\n",
      "memory usage: 28.7+ MB\n"
     ]
    }
   ],
   "source": [
    "drehkreuz.info()"
   ]
  },
  {
   "cell_type": "code",
   "execution_count": 3,
   "metadata": {
    "ExecuteTime": {
     "end_time": "2024-03-08T13:27:04.699535Z",
     "start_time": "2024-03-08T13:27:01.703937Z"
    }
   },
   "outputs": [
    {
     "data": {
      "text/html": [
       "<div>\n",
       "<style scoped>\n",
       "    .dataframe tbody tr th:only-of-type {\n",
       "        vertical-align: middle;\n",
       "    }\n",
       "\n",
       "    .dataframe tbody tr th {\n",
       "        vertical-align: top;\n",
       "    }\n",
       "\n",
       "    .dataframe thead th {\n",
       "        text-align: right;\n",
       "    }\n",
       "</style>\n",
       "<table border=\"1\" class=\"dataframe\">\n",
       "  <thead>\n",
       "    <tr style=\"text-align: right;\">\n",
       "      <th></th>\n",
       "      <th>Kategorie Zielbereich</th>\n",
       "      <th>Datum</th>\n",
       "      <th>Zeit</th>\n",
       "      <th>Anzahl</th>\n",
       "      <th>Pnr</th>\n",
       "    </tr>\n",
       "  </thead>\n",
       "  <tbody>\n",
       "    <tr>\n",
       "      <th>0</th>\n",
       "      <td>Mitarbeiter LC_Bib_Gates</td>\n",
       "      <td>2020-12-17</td>\n",
       "      <td>13:02:23</td>\n",
       "      <td>1</td>\n",
       "      <td>10**********</td>\n",
       "    </tr>\n",
       "    <tr>\n",
       "      <th>1</th>\n",
       "      <td>Mitarbeiter LC_Bib_Gates</td>\n",
       "      <td>2020-12-17</td>\n",
       "      <td>12:54:14</td>\n",
       "      <td>1</td>\n",
       "      <td>10**********</td>\n",
       "    </tr>\n",
       "    <tr>\n",
       "      <th>2</th>\n",
       "      <td>Mitarbeiter LC_Bib_Gates</td>\n",
       "      <td>2020-12-18</td>\n",
       "      <td>08:06:25</td>\n",
       "      <td>1</td>\n",
       "      <td>10**********</td>\n",
       "    </tr>\n",
       "    <tr>\n",
       "      <th>3</th>\n",
       "      <td>Mitarbeiter LC_Bib_Gates</td>\n",
       "      <td>2020-12-14</td>\n",
       "      <td>16:01:38</td>\n",
       "      <td>1</td>\n",
       "      <td>10**********</td>\n",
       "    </tr>\n",
       "    <tr>\n",
       "      <th>4</th>\n",
       "      <td>Mitarbeiter LC_Bib_Gates</td>\n",
       "      <td>2020-12-18</td>\n",
       "      <td>14:03:36</td>\n",
       "      <td>1</td>\n",
       "      <td>10**********</td>\n",
       "    </tr>\n",
       "  </tbody>\n",
       "</table>\n",
       "</div>"
      ],
      "text/plain": [
       "      Kategorie Zielbereich       Datum      Zeit Anzahl           Pnr\n",
       "0  Mitarbeiter LC_Bib_Gates  2020-12-17  13:02:23      1  10**********\n",
       "1  Mitarbeiter LC_Bib_Gates  2020-12-17  12:54:14      1  10**********\n",
       "2  Mitarbeiter LC_Bib_Gates  2020-12-18  08:06:25      1  10**********\n",
       "3  Mitarbeiter LC_Bib_Gates  2020-12-14  16:01:38      1  10**********\n",
       "4  Mitarbeiter LC_Bib_Gates  2020-12-18  14:03:36      1  10**********"
      ]
     },
     "execution_count": 3,
     "metadata": {},
     "output_type": "execute_result"
    }
   ],
   "source": [
    "drehkreuz.head()"
   ]
  },
  {
   "cell_type": "markdown",
   "metadata": {
    "slideshow": {
     "slide_type": "slide"
    }
   },
   "source": [
    "For an initial summary, we can use the describe() function (or similar functions in Python) to get a first overview. "
   ]
  },
  {
   "cell_type": "code",
   "execution_count": 4,
   "metadata": {
    "ExecuteTime": {
     "end_time": "2024-03-08T13:27:04.969261Z",
     "start_time": "2024-03-08T13:27:01.834322Z"
    },
    "slideshow": {
     "slide_type": "fragment"
    }
   },
   "outputs": [
    {
     "data": {
      "text/html": [
       "<div>\n",
       "<style scoped>\n",
       "    .dataframe tbody tr th:only-of-type {\n",
       "        vertical-align: middle;\n",
       "    }\n",
       "\n",
       "    .dataframe tbody tr th {\n",
       "        vertical-align: top;\n",
       "    }\n",
       "\n",
       "    .dataframe thead th {\n",
       "        text-align: right;\n",
       "    }\n",
       "</style>\n",
       "<table border=\"1\" class=\"dataframe\">\n",
       "  <thead>\n",
       "    <tr style=\"text-align: right;\">\n",
       "      <th></th>\n",
       "      <th>Kategorie Zielbereich</th>\n",
       "      <th>Datum</th>\n",
       "      <th>Zeit</th>\n",
       "      <th>Anzahl</th>\n",
       "      <th>Pnr</th>\n",
       "    </tr>\n",
       "  </thead>\n",
       "  <tbody>\n",
       "    <tr>\n",
       "      <th>count</th>\n",
       "      <td>751337</td>\n",
       "      <td>751337</td>\n",
       "      <td>751337</td>\n",
       "      <td>751337</td>\n",
       "      <td>751337</td>\n",
       "    </tr>\n",
       "    <tr>\n",
       "      <th>unique</th>\n",
       "      <td>3</td>\n",
       "      <td>683</td>\n",
       "      <td>518249</td>\n",
       "      <td>1</td>\n",
       "      <td>3</td>\n",
       "    </tr>\n",
       "    <tr>\n",
       "      <th>top</th>\n",
       "      <td>Studenten LC_Bib_Gates</td>\n",
       "      <td>2019-11-19</td>\n",
       "      <td>14:05:22</td>\n",
       "      <td>1</td>\n",
       "      <td>20**********</td>\n",
       "    </tr>\n",
       "    <tr>\n",
       "      <th>freq</th>\n",
       "      <td>537342</td>\n",
       "      <td>3032</td>\n",
       "      <td>27</td>\n",
       "      <td>751337</td>\n",
       "      <td>537342</td>\n",
       "    </tr>\n",
       "  </tbody>\n",
       "</table>\n",
       "</div>"
      ],
      "text/plain": [
       "         Kategorie Zielbereich       Datum      Zeit  Anzahl           Pnr\n",
       "count                   751337      751337    751337  751337        751337\n",
       "unique                       3         683    518249       1             3\n",
       "top     Studenten LC_Bib_Gates  2019-11-19  14:05:22       1  20**********\n",
       "freq                    537342        3032        27  751337        537342"
      ]
     },
     "execution_count": 4,
     "metadata": {},
     "output_type": "execute_result"
    }
   ],
   "source": [
    "drehkreuz.describe()"
   ]
  },
  {
   "cell_type": "markdown",
   "metadata": {
    "slideshow": {
     "slide_type": "fragment"
    }
   },
   "source": [
    "For example, we see that there are three different types of users, and we have 683 unique Dates in the data. \n",
    "\n",
    "However, to make the best use of the data, we need to take some additional data preparation steps before we can further analyze the dataset. "
   ]
  },
  {
   "cell_type": "code",
   "execution_count": 5,
   "metadata": {
    "ExecuteTime": {
     "end_time": "2024-03-08T13:27:04.970383Z",
     "start_time": "2024-03-08T13:27:03.631017Z"
    }
   },
   "outputs": [
    {
     "data": {
      "text/html": [
       "<div>\n",
       "<style scoped>\n",
       "    .dataframe tbody tr th:only-of-type {\n",
       "        vertical-align: middle;\n",
       "    }\n",
       "\n",
       "    .dataframe tbody tr th {\n",
       "        vertical-align: top;\n",
       "    }\n",
       "\n",
       "    .dataframe thead th {\n",
       "        text-align: right;\n",
       "    }\n",
       "</style>\n",
       "<table border=\"1\" class=\"dataframe\">\n",
       "  <thead>\n",
       "    <tr style=\"text-align: right;\">\n",
       "      <th></th>\n",
       "      <th>name</th>\n",
       "      <th>unique</th>\n",
       "    </tr>\n",
       "  </thead>\n",
       "  <tbody>\n",
       "    <tr>\n",
       "      <th>0</th>\n",
       "      <td>Kategorie Zielbereich</td>\n",
       "      <td>[Mitarbeiter LC_Bib_Gates, Studenten LC_Bib_Ga...</td>\n",
       "    </tr>\n",
       "    <tr>\n",
       "      <th>1</th>\n",
       "      <td>Datum</td>\n",
       "      <td>[2020-12-17, 2020-12-18, 2020-12-14, 2020-12-1...</td>\n",
       "    </tr>\n",
       "    <tr>\n",
       "      <th>2</th>\n",
       "      <td>Zeit</td>\n",
       "      <td>[13:02:23, 12:54:14, 08:06:25, 16:01:38, 14:03...</td>\n",
       "    </tr>\n",
       "    <tr>\n",
       "      <th>3</th>\n",
       "      <td>Anzahl</td>\n",
       "      <td>[1]</td>\n",
       "    </tr>\n",
       "    <tr>\n",
       "      <th>4</th>\n",
       "      <td>Pnr</td>\n",
       "      <td>[10**********, 20**********, 50**********]</td>\n",
       "    </tr>\n",
       "  </tbody>\n",
       "</table>\n",
       "</div>"
      ],
      "text/plain": [
       "                    name                                             unique\n",
       "0  Kategorie Zielbereich  [Mitarbeiter LC_Bib_Gates, Studenten LC_Bib_Ga...\n",
       "1                  Datum  [2020-12-17, 2020-12-18, 2020-12-14, 2020-12-1...\n",
       "2                   Zeit  [13:02:23, 12:54:14, 08:06:25, 16:01:38, 14:03...\n",
       "3                 Anzahl                                                [1]\n",
       "4                    Pnr         [10**********, 20**********, 50**********]"
      ]
     },
     "execution_count": 5,
     "metadata": {},
     "output_type": "execute_result"
    }
   ],
   "source": [
    "t = pd.DataFrame([[i,drehkreuz[i].unique()] for i in drehkreuz.columns])\n",
    "t.columns = ['name','unique']\n",
    "t   "
   ]
  },
  {
   "cell_type": "markdown",
   "metadata": {
    "slideshow": {
     "slide_type": "slide"
    },
    "tags": []
   },
   "source": [
    "## Data Preparation"
   ]
  },
  {
   "cell_type": "markdown",
   "metadata": {
    "tags": []
   },
   "source": [
    "### Introduction"
   ]
  },
  {
   "cell_type": "markdown",
   "metadata": {},
   "source": [
    "Data preparation activities can take up most of the time spent on a Data Analytics project because real-world data is often messy and will often include:\n",
    "\n",
    " - Missing / incomplete values\n",
    " - Incorrect / inconsistent values\n",
    " - Unclear meaning of variables and data.\n",
    "\n",
    "**NOTES:**\n",
    "- Data preparation is a vital step\n",
    "- Preprocessing imposes an upper limited on the possible quality of downstream analyses (or: if you mess up here, saving it later will often not be possible..)\n",
    "- ML algorithms will always give you a model\n",
    "- But: Quality of that model highly dependent on input (Garbage in → garbage out)\n",
    "- Data preparation = eliminate \"bad influence\" of variables\n",
    "- Repeatability and verifiability are key!"
   ]
  },
  {
   "cell_type": "markdown",
   "metadata": {
    "slideshow": {
     "slide_type": "slide"
    }
   },
   "source": [
    "Hence, a key part of a Data Analytics project is to address these issues and prepare the data for subsequent analysis. \n",
    "\n",
    "**Common preprocessing activities** include:\n",
    "\n",
    "- Dealing with **missing values**: Imputation methods to replace missing values with estimates\n",
    "\n",
    "- **Outlier Detection**: detecting potential outliers and deciding how to handle them. \n",
    "\n",
    "- **Scaling variables**: transforming variable values to consistent scales\n",
    "\n",
    "- **Feature Engineering**: derive new variables from raw data \n",
    "\n",
    "- **Feature Selection**, i.e., selecting which variables to use in the modeling step (in practice often done in conjunction with training and evaluating models)\n",
    "\n",
    "\n",
    "**Note:** Data preparation is a key step that can deeply impact the quality of your results (e.g., correctness of an analysis, fit of a model etc.) - remember: GiGo (garbage in, garbage out)."
   ]
  },
  {
   "cell_type": "markdown",
   "metadata": {
    "tags": []
   },
   "source": [
    "### Library entrance data set preparation"
   ]
  },
  {
   "cell_type": "markdown",
   "metadata": {
    "tags": []
   },
   "source": [
    "#### Missing values"
   ]
  },
  {
   "cell_type": "markdown",
   "metadata": {},
   "source": [
    "We don't have missing values in our datasets, so we'll skip this. However, there are many approaches/packages available in Python that help you **impute** the missing values."
   ]
  },
  {
   "cell_type": "markdown",
   "metadata": {
    "tags": []
   },
   "source": [
    "#### Feature Transformation"
   ]
  },
  {
   "cell_type": "markdown",
   "metadata": {
    "slideshow": {
     "slide_type": "slide"
    }
   },
   "source": [
    "<div class=\"alert alert-block alert-info\">\n",
    "<strong>Feature Transformation</strong>\n",
    "While investigating the original data is a useful first step, this initial data (or variables in the data) need to be transformed before we can proceed with further analysis. \n",
    "\n",
    "A typical example is to specify that a certain column in fact represents a data or time. For numerical variables, another typical feature transformation is scaling (e.g., such that the transformed variable has a mean of 0 and standard deviation of 1). \n",
    "</div>"
   ]
  },
  {
   "cell_type": "markdown",
   "metadata": {},
   "source": [
    "##### Split up multiple check-ins"
   ]
  },
  {
   "cell_type": "markdown",
   "metadata": {
    "slideshow": {
     "slide_type": "fragment"
    }
   },
   "source": [
    "Here, we see that sometimes we have multiple check-ins for the same person on the same day:"
   ]
  },
  {
   "cell_type": "code",
   "execution_count": 6,
   "metadata": {
    "ExecuteTime": {
     "end_time": "2024-03-08T13:27:04.971127Z",
     "start_time": "2024-03-08T13:27:03.825106Z"
    }
   },
   "outputs": [
    {
     "data": {
      "text/plain": [
       "0                   13:02:23\n",
       "1                   12:54:14\n",
       "2                   08:06:25\n",
       "3                   16:01:38\n",
       "4                   14:03:36\n",
       "                 ...        \n",
       "751332              14:48:11\n",
       "751333              14:48:07\n",
       "751334              14:48:32\n",
       "751335    14:15:16, 14:18:04\n",
       "751336    14:15:11, 14:17:49\n",
       "Name: Zeit, Length: 751337, dtype: object"
      ]
     },
     "execution_count": 6,
     "metadata": {},
     "output_type": "execute_result"
    }
   ],
   "source": [
    "drehkreuz[\"Zeit\"]"
   ]
  },
  {
   "cell_type": "markdown",
   "metadata": {},
   "source": [
    "Let's convert these individual entrances into multiple observations. We also want to keep the original index to preserve the information if multiple check-ins belong to the same person."
   ]
  },
  {
   "cell_type": "code",
   "execution_count": 7,
   "metadata": {
    "ExecuteTime": {
     "end_time": "2024-03-08T13:27:09.081080Z",
     "start_time": "2024-03-08T13:27:03.840365Z"
    },
    "slideshow": {
     "slide_type": "fragment"
    }
   },
   "outputs": [],
   "source": [
    "drehkreuz[\"ID\"] = drehkreuz.index.to_series()\n",
    "drehkreuz[\"Check-in Time\"] = drehkreuz[\"Zeit\"].str.split(\",\")\n",
    "drehkreuz = drehkreuz.explode(\"Check-in Time\").reset_index(drop=True)\n",
    "drehkreuz[\"Check-in Time\"] = drehkreuz[\"Check-in Time\"].str.replace(\" \", \"\") # strip white spaces"
   ]
  },
  {
   "cell_type": "code",
   "execution_count": 8,
   "metadata": {
    "ExecuteTime": {
     "end_time": "2024-03-08T13:27:09.110859Z",
     "start_time": "2024-03-08T13:27:09.080249Z"
    }
   },
   "outputs": [
    {
     "data": {
      "text/html": [
       "<div>\n",
       "<style scoped>\n",
       "    .dataframe tbody tr th:only-of-type {\n",
       "        vertical-align: middle;\n",
       "    }\n",
       "\n",
       "    .dataframe tbody tr th {\n",
       "        vertical-align: top;\n",
       "    }\n",
       "\n",
       "    .dataframe thead th {\n",
       "        text-align: right;\n",
       "    }\n",
       "</style>\n",
       "<table border=\"1\" class=\"dataframe\">\n",
       "  <thead>\n",
       "    <tr style=\"text-align: right;\">\n",
       "      <th></th>\n",
       "      <th>Kategorie Zielbereich</th>\n",
       "      <th>Datum</th>\n",
       "      <th>Zeit</th>\n",
       "      <th>Anzahl</th>\n",
       "      <th>Pnr</th>\n",
       "      <th>ID</th>\n",
       "      <th>Check-in Time</th>\n",
       "    </tr>\n",
       "  </thead>\n",
       "  <tbody>\n",
       "    <tr>\n",
       "      <th>0</th>\n",
       "      <td>Mitarbeiter LC_Bib_Gates</td>\n",
       "      <td>2020-12-17</td>\n",
       "      <td>13:02:23</td>\n",
       "      <td>1</td>\n",
       "      <td>10**********</td>\n",
       "      <td>0</td>\n",
       "      <td>13:02:23</td>\n",
       "    </tr>\n",
       "    <tr>\n",
       "      <th>1</th>\n",
       "      <td>Mitarbeiter LC_Bib_Gates</td>\n",
       "      <td>2020-12-17</td>\n",
       "      <td>12:54:14</td>\n",
       "      <td>1</td>\n",
       "      <td>10**********</td>\n",
       "      <td>1</td>\n",
       "      <td>12:54:14</td>\n",
       "    </tr>\n",
       "    <tr>\n",
       "      <th>2</th>\n",
       "      <td>Mitarbeiter LC_Bib_Gates</td>\n",
       "      <td>2020-12-18</td>\n",
       "      <td>08:06:25</td>\n",
       "      <td>1</td>\n",
       "      <td>10**********</td>\n",
       "      <td>2</td>\n",
       "      <td>08:06:25</td>\n",
       "    </tr>\n",
       "    <tr>\n",
       "      <th>3</th>\n",
       "      <td>Mitarbeiter LC_Bib_Gates</td>\n",
       "      <td>2020-12-14</td>\n",
       "      <td>16:01:38</td>\n",
       "      <td>1</td>\n",
       "      <td>10**********</td>\n",
       "      <td>3</td>\n",
       "      <td>16:01:38</td>\n",
       "    </tr>\n",
       "    <tr>\n",
       "      <th>4</th>\n",
       "      <td>Mitarbeiter LC_Bib_Gates</td>\n",
       "      <td>2020-12-18</td>\n",
       "      <td>14:03:36</td>\n",
       "      <td>1</td>\n",
       "      <td>10**********</td>\n",
       "      <td>4</td>\n",
       "      <td>14:03:36</td>\n",
       "    </tr>\n",
       "    <tr>\n",
       "      <th>...</th>\n",
       "      <td>...</td>\n",
       "      <td>...</td>\n",
       "      <td>...</td>\n",
       "      <td>...</td>\n",
       "      <td>...</td>\n",
       "      <td>...</td>\n",
       "      <td>...</td>\n",
       "    </tr>\n",
       "    <tr>\n",
       "      <th>1636042</th>\n",
       "      <td>BibUser LC_Bib_Gates</td>\n",
       "      <td>2021-07-08</td>\n",
       "      <td>14:48:32</td>\n",
       "      <td>1</td>\n",
       "      <td>50**********</td>\n",
       "      <td>751334</td>\n",
       "      <td>14:48:32</td>\n",
       "    </tr>\n",
       "    <tr>\n",
       "      <th>1636043</th>\n",
       "      <td>BibUser LC_Bib_Gates</td>\n",
       "      <td>2021-07-09</td>\n",
       "      <td>14:15:16, 14:18:04</td>\n",
       "      <td>1</td>\n",
       "      <td>50**********</td>\n",
       "      <td>751335</td>\n",
       "      <td>14:15:16</td>\n",
       "    </tr>\n",
       "    <tr>\n",
       "      <th>1636044</th>\n",
       "      <td>BibUser LC_Bib_Gates</td>\n",
       "      <td>2021-07-09</td>\n",
       "      <td>14:15:16, 14:18:04</td>\n",
       "      <td>1</td>\n",
       "      <td>50**********</td>\n",
       "      <td>751335</td>\n",
       "      <td>14:18:04</td>\n",
       "    </tr>\n",
       "    <tr>\n",
       "      <th>1636045</th>\n",
       "      <td>BibUser LC_Bib_Gates</td>\n",
       "      <td>2021-07-09</td>\n",
       "      <td>14:15:11, 14:17:49</td>\n",
       "      <td>1</td>\n",
       "      <td>50**********</td>\n",
       "      <td>751336</td>\n",
       "      <td>14:15:11</td>\n",
       "    </tr>\n",
       "    <tr>\n",
       "      <th>1636046</th>\n",
       "      <td>BibUser LC_Bib_Gates</td>\n",
       "      <td>2021-07-09</td>\n",
       "      <td>14:15:11, 14:17:49</td>\n",
       "      <td>1</td>\n",
       "      <td>50**********</td>\n",
       "      <td>751336</td>\n",
       "      <td>14:17:49</td>\n",
       "    </tr>\n",
       "  </tbody>\n",
       "</table>\n",
       "<p>1636047 rows × 7 columns</p>\n",
       "</div>"
      ],
      "text/plain": [
       "            Kategorie Zielbereich       Datum                Zeit Anzahl  \\\n",
       "0        Mitarbeiter LC_Bib_Gates  2020-12-17            13:02:23      1   \n",
       "1        Mitarbeiter LC_Bib_Gates  2020-12-17            12:54:14      1   \n",
       "2        Mitarbeiter LC_Bib_Gates  2020-12-18            08:06:25      1   \n",
       "3        Mitarbeiter LC_Bib_Gates  2020-12-14            16:01:38      1   \n",
       "4        Mitarbeiter LC_Bib_Gates  2020-12-18            14:03:36      1   \n",
       "...                           ...         ...                 ...    ...   \n",
       "1636042      BibUser LC_Bib_Gates  2021-07-08            14:48:32      1   \n",
       "1636043      BibUser LC_Bib_Gates  2021-07-09  14:15:16, 14:18:04      1   \n",
       "1636044      BibUser LC_Bib_Gates  2021-07-09  14:15:16, 14:18:04      1   \n",
       "1636045      BibUser LC_Bib_Gates  2021-07-09  14:15:11, 14:17:49      1   \n",
       "1636046      BibUser LC_Bib_Gates  2021-07-09  14:15:11, 14:17:49      1   \n",
       "\n",
       "                  Pnr      ID Check-in Time  \n",
       "0        10**********       0      13:02:23  \n",
       "1        10**********       1      12:54:14  \n",
       "2        10**********       2      08:06:25  \n",
       "3        10**********       3      16:01:38  \n",
       "4        10**********       4      14:03:36  \n",
       "...               ...     ...           ...  \n",
       "1636042  50**********  751334      14:48:32  \n",
       "1636043  50**********  751335      14:15:16  \n",
       "1636044  50**********  751335      14:18:04  \n",
       "1636045  50**********  751336      14:15:11  \n",
       "1636046  50**********  751336      14:17:49  \n",
       "\n",
       "[1636047 rows x 7 columns]"
      ]
     },
     "execution_count": 8,
     "metadata": {},
     "output_type": "execute_result"
    }
   ],
   "source": [
    "drehkreuz"
   ]
  },
  {
   "cell_type": "markdown",
   "metadata": {},
   "source": [
    "##### Data Type conversions"
   ]
  },
  {
   "cell_type": "markdown",
   "metadata": {},
   "source": [
    "Let's look at summary information about our `drehkreuz` data frame:"
   ]
  },
  {
   "cell_type": "code",
   "execution_count": 9,
   "metadata": {
    "ExecuteTime": {
     "end_time": "2024-03-08T13:27:09.985195Z",
     "start_time": "2024-03-08T13:27:09.092070Z"
    }
   },
   "outputs": [
    {
     "name": "stdout",
     "output_type": "stream",
     "text": [
      "<class 'pandas.core.frame.DataFrame'>\n",
      "RangeIndex: 1636047 entries, 0 to 1636046\n",
      "Data columns (total 7 columns):\n",
      " #   Column                 Non-Null Count    Dtype \n",
      "---  ------                 --------------    ----- \n",
      " 0   Kategorie Zielbereich  1636047 non-null  object\n",
      " 1   Datum                  1636047 non-null  object\n",
      " 2   Zeit                   1636047 non-null  object\n",
      " 3   Anzahl                 1636047 non-null  object\n",
      " 4   Pnr                    1636047 non-null  object\n",
      " 5   ID                     1636047 non-null  int64 \n",
      " 6   Check-in Time          1636047 non-null  object\n",
      "dtypes: int64(1), object(6)\n",
      "memory usage: 87.4+ MB\n"
     ]
    }
   ],
   "source": [
    "drehkreuz.info()"
   ]
  },
  {
   "cell_type": "markdown",
   "metadata": {},
   "source": [
    "What we see is that \n",
    " - `Anzahl` is not an integer\n",
    " - `Datum`, `Zeit` and also our derived `Check-in Time` are not of `Date` type\n",
    " \n",
    "*Note:* For information on Pandas data types (which are mostly based on NumPy's data types), cf. the [documentation](https://pandas.pydata.org/pandas-docs/stable/user_guide/basics.html#basics-dtypes). The `object` can story any Python object and is automatically used when reading in data when no other data type fits (e.g., mixed numeric and non-numeric values)."
   ]
  },
  {
   "cell_type": "markdown",
   "metadata": {
    "slideshow": {
     "slide_type": "slide"
    }
   },
   "source": [
    "Let's convert the dates and times to the correct data types:"
   ]
  },
  {
   "cell_type": "code",
   "execution_count": 10,
   "metadata": {
    "ExecuteTime": {
     "end_time": "2024-03-08T13:27:11.317764Z",
     "start_time": "2024-03-08T13:27:09.979199Z"
    },
    "slideshow": {
     "slide_type": "fragment"
    }
   },
   "outputs": [],
   "source": [
    "# Convert numeric values\n",
    "drehkreuz[\"Anzahl\"] = pd.to_numeric(drehkreuz[\"Anzahl\"])\n",
    "\n",
    "# Convert dates\n",
    "drehkreuz[\"Datetime\"] = drehkreuz[\"Datum\"] + \" \" + drehkreuz[\"Check-in Time\"] # concatenate date and time\n",
    "drehkreuz[\"Datetime\"] = pd.to_datetime(drehkreuz[\"Datetime\"]) # and convert to date time\n",
    "drehkreuz[\"Datum\"] = pd.to_datetime(drehkreuz[\"Datum\"])"
   ]
  },
  {
   "cell_type": "markdown",
   "metadata": {
    "tags": []
   },
   "source": [
    "#### Feature engineering"
   ]
  },
  {
   "cell_type": "markdown",
   "metadata": {
    "slideshow": {
     "slide_type": "slide"
    }
   },
   "source": [
    "<div class=\"alert alert-block alert-info\">\n",
    "<strong>Feature Engineering</strong>\n",
    "Besides feature transformations, we can also derive additional features from the available variables. E.g., this can include the calculation of KPIs based on several other variables in the data. \n",
    "    \n",
    "\n",
    "Deriving new, potentially relevant variables is a core step in any Data Analytics project. The type of derived variable is highly dependent on the available data and the project context. Often, the new features represent a characteristic of the observations that can be meaningfully interpreted.\n",
    "</div>"
   ]
  },
  {
   "cell_type": "markdown",
   "metadata": {},
   "source": [
    "Let's generate some new features based on the timestamps:"
   ]
  },
  {
   "cell_type": "code",
   "execution_count": 11,
   "metadata": {
    "ExecuteTime": {
     "end_time": "2024-03-08T13:27:11.823265Z",
     "start_time": "2024-03-08T13:27:11.322881Z"
    }
   },
   "outputs": [],
   "source": [
    "drehkreuz[\"Year\"] = drehkreuz[\"Datetime\"].dt.year\n",
    "drehkreuz[\"Month\"] = drehkreuz[\"Datetime\"].dt.month\n",
    "drehkreuz[\"Day\"] = drehkreuz[\"Datetime\"].dt.day\n",
    "drehkreuz[\"Hour\"] = drehkreuz[\"Datetime\"].dt.hour\n",
    "drehkreuz[\"Minute\"] = drehkreuz[\"Datetime\"].dt.minute"
   ]
  },
  {
   "cell_type": "markdown",
   "metadata": {
    "slideshow": {
     "slide_type": "slide"
    }
   },
   "source": [
    "We can also add additional information such as time of week. In Python, they are encoded as integers. Hence, we include them as separate categories in the data. "
   ]
  },
  {
   "cell_type": "code",
   "execution_count": 12,
   "metadata": {
    "ExecuteTime": {
     "end_time": "2024-03-08T13:27:12.331310Z",
     "start_time": "2024-03-08T13:27:11.822931Z"
    },
    "slideshow": {
     "slide_type": "fragment"
    }
   },
   "outputs": [],
   "source": [
    "drehkreuz[\"Weekday\"] = drehkreuz[\"Datetime\"].dt.day_name().astype(str)"
   ]
  },
  {
   "cell_type": "markdown",
   "metadata": {
    "slideshow": {
     "slide_type": "slide"
    }
   },
   "source": [
    "<div class=\"alert alert-block alert-warning\">\n",
    "<strong>Exercise:</strong>\n",
    "Create a new column called \"Week Of Year\" from the Datetime variable. For this, look up the isocalendar() function.\n",
    "</div>"
   ]
  },
  {
   "cell_type": "code",
   "execution_count": 13,
   "metadata": {
    "ExecuteTime": {
     "end_time": "2024-03-08T13:27:12.464852Z",
     "start_time": "2024-03-08T13:27:12.332879Z"
    }
   },
   "outputs": [],
   "source": [
    "drehkreuz[\"WeekOfYear\"] = drehkreuz[\"Datetime\"].dt.isocalendar().week"
   ]
  },
  {
   "cell_type": "markdown",
   "metadata": {
    "slideshow": {
     "slide_type": "slide"
    }
   },
   "source": [
    "Finally, we can take a look at the newly created variables and check their types - Let's get the first 10 observations.."
   ]
  },
  {
   "cell_type": "code",
   "execution_count": 14,
   "metadata": {
    "ExecuteTime": {
     "end_time": "2024-03-08T13:27:12.533207Z",
     "start_time": "2024-03-08T13:27:12.462366Z"
    },
    "slideshow": {
     "slide_type": "fragment"
    }
   },
   "outputs": [
    {
     "data": {
      "text/html": [
       "<div>\n",
       "<style scoped>\n",
       "    .dataframe tbody tr th:only-of-type {\n",
       "        vertical-align: middle;\n",
       "    }\n",
       "\n",
       "    .dataframe tbody tr th {\n",
       "        vertical-align: top;\n",
       "    }\n",
       "\n",
       "    .dataframe thead th {\n",
       "        text-align: right;\n",
       "    }\n",
       "</style>\n",
       "<table border=\"1\" class=\"dataframe\">\n",
       "  <thead>\n",
       "    <tr style=\"text-align: right;\">\n",
       "      <th></th>\n",
       "      <th>Kategorie Zielbereich</th>\n",
       "      <th>Datum</th>\n",
       "      <th>Zeit</th>\n",
       "      <th>Anzahl</th>\n",
       "      <th>Pnr</th>\n",
       "      <th>ID</th>\n",
       "      <th>Check-in Time</th>\n",
       "      <th>Datetime</th>\n",
       "      <th>Year</th>\n",
       "      <th>Month</th>\n",
       "      <th>Day</th>\n",
       "      <th>Hour</th>\n",
       "      <th>Minute</th>\n",
       "      <th>Weekday</th>\n",
       "      <th>WeekOfYear</th>\n",
       "    </tr>\n",
       "  </thead>\n",
       "  <tbody>\n",
       "    <tr>\n",
       "      <th>0</th>\n",
       "      <td>Mitarbeiter LC_Bib_Gates</td>\n",
       "      <td>2020-12-17</td>\n",
       "      <td>13:02:23</td>\n",
       "      <td>1</td>\n",
       "      <td>10**********</td>\n",
       "      <td>0</td>\n",
       "      <td>13:02:23</td>\n",
       "      <td>2020-12-17 13:02:23</td>\n",
       "      <td>2020</td>\n",
       "      <td>12</td>\n",
       "      <td>17</td>\n",
       "      <td>13</td>\n",
       "      <td>2</td>\n",
       "      <td>Thursday</td>\n",
       "      <td>51</td>\n",
       "    </tr>\n",
       "    <tr>\n",
       "      <th>1</th>\n",
       "      <td>Mitarbeiter LC_Bib_Gates</td>\n",
       "      <td>2020-12-17</td>\n",
       "      <td>12:54:14</td>\n",
       "      <td>1</td>\n",
       "      <td>10**********</td>\n",
       "      <td>1</td>\n",
       "      <td>12:54:14</td>\n",
       "      <td>2020-12-17 12:54:14</td>\n",
       "      <td>2020</td>\n",
       "      <td>12</td>\n",
       "      <td>17</td>\n",
       "      <td>12</td>\n",
       "      <td>54</td>\n",
       "      <td>Thursday</td>\n",
       "      <td>51</td>\n",
       "    </tr>\n",
       "    <tr>\n",
       "      <th>2</th>\n",
       "      <td>Mitarbeiter LC_Bib_Gates</td>\n",
       "      <td>2020-12-18</td>\n",
       "      <td>08:06:25</td>\n",
       "      <td>1</td>\n",
       "      <td>10**********</td>\n",
       "      <td>2</td>\n",
       "      <td>08:06:25</td>\n",
       "      <td>2020-12-18 08:06:25</td>\n",
       "      <td>2020</td>\n",
       "      <td>12</td>\n",
       "      <td>18</td>\n",
       "      <td>8</td>\n",
       "      <td>6</td>\n",
       "      <td>Friday</td>\n",
       "      <td>51</td>\n",
       "    </tr>\n",
       "    <tr>\n",
       "      <th>3</th>\n",
       "      <td>Mitarbeiter LC_Bib_Gates</td>\n",
       "      <td>2020-12-14</td>\n",
       "      <td>16:01:38</td>\n",
       "      <td>1</td>\n",
       "      <td>10**********</td>\n",
       "      <td>3</td>\n",
       "      <td>16:01:38</td>\n",
       "      <td>2020-12-14 16:01:38</td>\n",
       "      <td>2020</td>\n",
       "      <td>12</td>\n",
       "      <td>14</td>\n",
       "      <td>16</td>\n",
       "      <td>1</td>\n",
       "      <td>Monday</td>\n",
       "      <td>51</td>\n",
       "    </tr>\n",
       "    <tr>\n",
       "      <th>4</th>\n",
       "      <td>Mitarbeiter LC_Bib_Gates</td>\n",
       "      <td>2020-12-18</td>\n",
       "      <td>14:03:36</td>\n",
       "      <td>1</td>\n",
       "      <td>10**********</td>\n",
       "      <td>4</td>\n",
       "      <td>14:03:36</td>\n",
       "      <td>2020-12-18 14:03:36</td>\n",
       "      <td>2020</td>\n",
       "      <td>12</td>\n",
       "      <td>18</td>\n",
       "      <td>14</td>\n",
       "      <td>3</td>\n",
       "      <td>Friday</td>\n",
       "      <td>51</td>\n",
       "    </tr>\n",
       "    <tr>\n",
       "      <th>5</th>\n",
       "      <td>Mitarbeiter LC_Bib_Gates</td>\n",
       "      <td>2020-12-15</td>\n",
       "      <td>08:54:03</td>\n",
       "      <td>1</td>\n",
       "      <td>10**********</td>\n",
       "      <td>5</td>\n",
       "      <td>08:54:03</td>\n",
       "      <td>2020-12-15 08:54:03</td>\n",
       "      <td>2020</td>\n",
       "      <td>12</td>\n",
       "      <td>15</td>\n",
       "      <td>8</td>\n",
       "      <td>54</td>\n",
       "      <td>Tuesday</td>\n",
       "      <td>51</td>\n",
       "    </tr>\n",
       "    <tr>\n",
       "      <th>6</th>\n",
       "      <td>Mitarbeiter LC_Bib_Gates</td>\n",
       "      <td>2020-12-17</td>\n",
       "      <td>15:15:00</td>\n",
       "      <td>1</td>\n",
       "      <td>10**********</td>\n",
       "      <td>6</td>\n",
       "      <td>15:15:00</td>\n",
       "      <td>2020-12-17 15:15:00</td>\n",
       "      <td>2020</td>\n",
       "      <td>12</td>\n",
       "      <td>17</td>\n",
       "      <td>15</td>\n",
       "      <td>15</td>\n",
       "      <td>Thursday</td>\n",
       "      <td>51</td>\n",
       "    </tr>\n",
       "    <tr>\n",
       "      <th>7</th>\n",
       "      <td>Mitarbeiter LC_Bib_Gates</td>\n",
       "      <td>2020-12-15</td>\n",
       "      <td>17:04:17</td>\n",
       "      <td>1</td>\n",
       "      <td>10**********</td>\n",
       "      <td>7</td>\n",
       "      <td>17:04:17</td>\n",
       "      <td>2020-12-15 17:04:17</td>\n",
       "      <td>2020</td>\n",
       "      <td>12</td>\n",
       "      <td>15</td>\n",
       "      <td>17</td>\n",
       "      <td>4</td>\n",
       "      <td>Tuesday</td>\n",
       "      <td>51</td>\n",
       "    </tr>\n",
       "    <tr>\n",
       "      <th>8</th>\n",
       "      <td>Mitarbeiter LC_Bib_Gates</td>\n",
       "      <td>2020-12-17</td>\n",
       "      <td>16:27:24</td>\n",
       "      <td>1</td>\n",
       "      <td>10**********</td>\n",
       "      <td>8</td>\n",
       "      <td>16:27:24</td>\n",
       "      <td>2020-12-17 16:27:24</td>\n",
       "      <td>2020</td>\n",
       "      <td>12</td>\n",
       "      <td>17</td>\n",
       "      <td>16</td>\n",
       "      <td>27</td>\n",
       "      <td>Thursday</td>\n",
       "      <td>51</td>\n",
       "    </tr>\n",
       "    <tr>\n",
       "      <th>9</th>\n",
       "      <td>Mitarbeiter LC_Bib_Gates</td>\n",
       "      <td>2020-12-15</td>\n",
       "      <td>14:15:53</td>\n",
       "      <td>1</td>\n",
       "      <td>10**********</td>\n",
       "      <td>9</td>\n",
       "      <td>14:15:53</td>\n",
       "      <td>2020-12-15 14:15:53</td>\n",
       "      <td>2020</td>\n",
       "      <td>12</td>\n",
       "      <td>15</td>\n",
       "      <td>14</td>\n",
       "      <td>15</td>\n",
       "      <td>Tuesday</td>\n",
       "      <td>51</td>\n",
       "    </tr>\n",
       "  </tbody>\n",
       "</table>\n",
       "</div>"
      ],
      "text/plain": [
       "      Kategorie Zielbereich      Datum      Zeit  Anzahl           Pnr  ID  \\\n",
       "0  Mitarbeiter LC_Bib_Gates 2020-12-17  13:02:23       1  10**********   0   \n",
       "1  Mitarbeiter LC_Bib_Gates 2020-12-17  12:54:14       1  10**********   1   \n",
       "2  Mitarbeiter LC_Bib_Gates 2020-12-18  08:06:25       1  10**********   2   \n",
       "3  Mitarbeiter LC_Bib_Gates 2020-12-14  16:01:38       1  10**********   3   \n",
       "4  Mitarbeiter LC_Bib_Gates 2020-12-18  14:03:36       1  10**********   4   \n",
       "5  Mitarbeiter LC_Bib_Gates 2020-12-15  08:54:03       1  10**********   5   \n",
       "6  Mitarbeiter LC_Bib_Gates 2020-12-17  15:15:00       1  10**********   6   \n",
       "7  Mitarbeiter LC_Bib_Gates 2020-12-15  17:04:17       1  10**********   7   \n",
       "8  Mitarbeiter LC_Bib_Gates 2020-12-17  16:27:24       1  10**********   8   \n",
       "9  Mitarbeiter LC_Bib_Gates 2020-12-15  14:15:53       1  10**********   9   \n",
       "\n",
       "  Check-in Time            Datetime  Year  Month  Day  Hour  Minute   Weekday  \\\n",
       "0      13:02:23 2020-12-17 13:02:23  2020     12   17    13       2  Thursday   \n",
       "1      12:54:14 2020-12-17 12:54:14  2020     12   17    12      54  Thursday   \n",
       "2      08:06:25 2020-12-18 08:06:25  2020     12   18     8       6    Friday   \n",
       "3      16:01:38 2020-12-14 16:01:38  2020     12   14    16       1    Monday   \n",
       "4      14:03:36 2020-12-18 14:03:36  2020     12   18    14       3    Friday   \n",
       "5      08:54:03 2020-12-15 08:54:03  2020     12   15     8      54   Tuesday   \n",
       "6      15:15:00 2020-12-17 15:15:00  2020     12   17    15      15  Thursday   \n",
       "7      17:04:17 2020-12-15 17:04:17  2020     12   15    17       4   Tuesday   \n",
       "8      16:27:24 2020-12-17 16:27:24  2020     12   17    16      27  Thursday   \n",
       "9      14:15:53 2020-12-15 14:15:53  2020     12   15    14      15   Tuesday   \n",
       "\n",
       "   WeekOfYear  \n",
       "0          51  \n",
       "1          51  \n",
       "2          51  \n",
       "3          51  \n",
       "4          51  \n",
       "5          51  \n",
       "6          51  \n",
       "7          51  \n",
       "8          51  \n",
       "9          51  "
      ]
     },
     "execution_count": 14,
     "metadata": {},
     "output_type": "execute_result"
    }
   ],
   "source": [
    "drehkreuz.head(10)"
   ]
  },
  {
   "cell_type": "code",
   "execution_count": 15,
   "metadata": {
    "ExecuteTime": {
     "end_time": "2024-03-08T13:27:13.488786Z",
     "start_time": "2024-03-08T13:27:12.524906Z"
    }
   },
   "outputs": [
    {
     "name": "stdout",
     "output_type": "stream",
     "text": [
      "<class 'pandas.core.frame.DataFrame'>\n",
      "RangeIndex: 1636047 entries, 0 to 1636046\n",
      "Data columns (total 15 columns):\n",
      " #   Column                 Non-Null Count    Dtype         \n",
      "---  ------                 --------------    -----         \n",
      " 0   Kategorie Zielbereich  1636047 non-null  object        \n",
      " 1   Datum                  1636047 non-null  datetime64[ns]\n",
      " 2   Zeit                   1636047 non-null  object        \n",
      " 3   Anzahl                 1636047 non-null  int64         \n",
      " 4   Pnr                    1636047 non-null  object        \n",
      " 5   ID                     1636047 non-null  int64         \n",
      " 6   Check-in Time          1636047 non-null  object        \n",
      " 7   Datetime               1636047 non-null  datetime64[ns]\n",
      " 8   Year                   1636047 non-null  int32         \n",
      " 9   Month                  1636047 non-null  int32         \n",
      " 10  Day                    1636047 non-null  int32         \n",
      " 11  Hour                   1636047 non-null  int32         \n",
      " 12  Minute                 1636047 non-null  int32         \n",
      " 13  Weekday                1636047 non-null  object        \n",
      " 14  WeekOfYear             1636047 non-null  UInt32        \n",
      "dtypes: UInt32(1), datetime64[ns](2), int32(5), int64(2), object(5)\n",
      "memory usage: 151.3+ MB\n"
     ]
    }
   ],
   "source": [
    "drehkreuz.info()"
   ]
  },
  {
   "cell_type": "markdown",
   "metadata": {
    "slideshow": {
     "slide_type": "slide"
    },
    "tags": []
   },
   "source": [
    "### Library loan data set preparation"
   ]
  },
  {
   "cell_type": "markdown",
   "metadata": {
    "slideshow": {
     "slide_type": "fragment"
    },
    "tags": []
   },
   "source": [
    "Let's look at the loan data from the library next. "
   ]
  },
  {
   "cell_type": "markdown",
   "metadata": {
    "tags": []
   },
   "source": [
    "#### Initial inspection"
   ]
  },
  {
   "cell_type": "code",
   "execution_count": 16,
   "metadata": {
    "ExecuteTime": {
     "end_time": "2024-03-08T13:27:13.489766Z",
     "start_time": "2024-03-08T13:27:13.469450Z"
    },
    "slideshow": {
     "slide_type": "fragment"
    }
   },
   "outputs": [
    {
     "data": {
      "text/html": [
       "<div>\n",
       "<style scoped>\n",
       "    .dataframe tbody tr th:only-of-type {\n",
       "        vertical-align: middle;\n",
       "    }\n",
       "\n",
       "    .dataframe tbody tr th {\n",
       "        vertical-align: top;\n",
       "    }\n",
       "\n",
       "    .dataframe thead th {\n",
       "        text-align: right;\n",
       "    }\n",
       "</style>\n",
       "<table border=\"1\" class=\"dataframe\">\n",
       "  <thead>\n",
       "    <tr style=\"text-align: right;\">\n",
       "      <th></th>\n",
       "      <th>Title</th>\n",
       "      <th>ISBN</th>\n",
       "      <th>Publisher</th>\n",
       "      <th>Author</th>\n",
       "      <th>Author (contributor)</th>\n",
       "      <th>Publication Place</th>\n",
       "      <th>Subjects</th>\n",
       "      <th>Loan Date</th>\n",
       "      <th>Due Date</th>\n",
       "      <th>Return Date</th>\n",
       "      <th>Barcode</th>\n",
       "      <th>Item Call Number</th>\n",
       "      <th>Library Name</th>\n",
       "      <th>Location Name</th>\n",
       "      <th>User Group</th>\n",
       "    </tr>\n",
       "  </thead>\n",
       "  <tbody>\n",
       "    <tr>\n",
       "      <th>0</th>\n",
       "      <td>Legal discourse across cultures and systems</td>\n",
       "      <td>9789622098527; 9622098525; 9789622098510; 9622...</td>\n",
       "      <td>Hong Kong Univ Press</td>\n",
       "      <td>NaN</td>\n",
       "      <td>Bhatia, V. K. 1942-</td>\n",
       "      <td>Hong Kong</td>\n",
       "      <td>NaN</td>\n",
       "      <td>2019-05-07</td>\n",
       "      <td>2019-09-24</td>\n",
       "      <td>2019-09-09</td>\n",
       "      <td>+J361721701</td>\n",
       "      <td>HF 638 B575</td>\n",
       "      <td>Central Library LC Textbook Collection</td>\n",
       "      <td>NaN</td>\n",
       "      <td>Campuslieferdienst</td>\n",
       "    </tr>\n",
       "    <tr>\n",
       "      <th>1</th>\n",
       "      <td>Erbschaftssteuern und Doppelbesteuerungsabkommen</td>\n",
       "      <td>3707303136; 9783707303131</td>\n",
       "      <td>Linde</td>\n",
       "      <td>NaN</td>\n",
       "      <td>Aigner, Dietmar Johannes 1973-</td>\n",
       "      <td>Wien</td>\n",
       "      <td>Oesterreich; Doppelbesteuerungsabkommen; Erbsc...</td>\n",
       "      <td>2020-02-20</td>\n",
       "      <td>2020-08-07</td>\n",
       "      <td>2020-07-15</td>\n",
       "      <td>+J313555002</td>\n",
       "      <td>267440-B</td>\n",
       "      <td>Central Library LC</td>\n",
       "      <td>Level -2 Books</td>\n",
       "      <td>Campuslieferdienst</td>\n",
       "    </tr>\n",
       "    <tr>\n",
       "      <th>2</th>\n",
       "      <td>The Routledge companion to digital consumption</td>\n",
       "      <td>0415679923; 9780415679923; 9780203105306; 0203...</td>\n",
       "      <td>Routledge</td>\n",
       "      <td>NaN</td>\n",
       "      <td>Belk, Russell W. 1945-</td>\n",
       "      <td>London [u.a.]</td>\n",
       "      <td>Informationstechnik; Verbraucherverhalten; Inf...</td>\n",
       "      <td>2019-06-05</td>\n",
       "      <td>2019-11-15</td>\n",
       "      <td>2019-10-18</td>\n",
       "      <td>+J35080040X</td>\n",
       "      <td>QW 300 B432</td>\n",
       "      <td>Central Library LC</td>\n",
       "      <td>Level 5</td>\n",
       "      <td>WU-StudentIn inkl CLD</td>\n",
       "    </tr>\n",
       "    <tr>\n",
       "      <th>3</th>\n",
       "      <td>Eigentumsvorbehalt und Sicherungsuebertragung ...</td>\n",
       "      <td>3800569116; 9783800569113</td>\n",
       "      <td>Verl Recht u Wirtschaft</td>\n",
       "      <td>NaN</td>\n",
       "      <td>Fichna, Gudrun [Bearb.]; Stumpf, Herbert</td>\n",
       "      <td>Heidelberg</td>\n",
       "      <td>Conditional sales--Automatisch aus GBV_2011-10...</td>\n",
       "      <td>2019-08-05</td>\n",
       "      <td>2019-08-05</td>\n",
       "      <td>2019-08-05</td>\n",
       "      <td>+J36762870X</td>\n",
       "      <td>PU 1533 S934 (4)</td>\n",
       "      <td>D3 Law</td>\n",
       "      <td>Books</td>\n",
       "      <td>NaN</td>\n",
       "    </tr>\n",
       "    <tr>\n",
       "      <th>4</th>\n",
       "      <td>Verfassungsrecht</td>\n",
       "      <td>9783700765936; 3700765932</td>\n",
       "      <td>LexisNexis</td>\n",
       "      <td>Oesterreich</td>\n",
       "      <td>LexisNexis Verlag; Lanner, Christoph</td>\n",
       "      <td>Wien</td>\n",
       "      <td>Quelle; Oesterreich; Verfassungsrecht; Oesterr...</td>\n",
       "      <td>2018-10-03</td>\n",
       "      <td>2018-10-17</td>\n",
       "      <td>2018-10-16</td>\n",
       "      <td>+J363182702</td>\n",
       "      <td>NaN</td>\n",
       "      <td>Central Library LC</td>\n",
       "      <td>Level 6</td>\n",
       "      <td>WU-StudentIn</td>\n",
       "    </tr>\n",
       "    <tr>\n",
       "      <th>...</th>\n",
       "      <td>...</td>\n",
       "      <td>...</td>\n",
       "      <td>...</td>\n",
       "      <td>...</td>\n",
       "      <td>...</td>\n",
       "      <td>...</td>\n",
       "      <td>...</td>\n",
       "      <td>...</td>\n",
       "      <td>...</td>\n",
       "      <td>...</td>\n",
       "      <td>...</td>\n",
       "      <td>...</td>\n",
       "      <td>...</td>\n",
       "      <td>...</td>\n",
       "      <td>...</td>\n",
       "    </tr>\n",
       "    <tr>\n",
       "      <th>19995</th>\n",
       "      <td>Klaus Vogel on double taxation conventions</td>\n",
       "      <td>9789041160553; 9041160558</td>\n",
       "      <td>Wolters Kluwer Law &amp; Business</td>\n",
       "      <td>NaN</td>\n",
       "      <td>Becker, Johannes; Rust, Alexander 1973-; Reime...</td>\n",
       "      <td>London [u.a.]</td>\n",
       "      <td>NaN</td>\n",
       "      <td>2019-04-26</td>\n",
       "      <td>2019-04-26</td>\n",
       "      <td>2019-04-26</td>\n",
       "      <td>+J358793201</td>\n",
       "      <td>PP 6843 V878 D7(4)-2 +3</td>\n",
       "      <td>D3 Tax Law</td>\n",
       "      <td>Books</td>\n",
       "      <td>NaN</td>\n",
       "    </tr>\n",
       "    <tr>\n",
       "      <th>19996</th>\n",
       "      <td>Wege aus der Krise Ideen und Konzepte fuer morgen</td>\n",
       "      <td>9783643504661; 3643504667</td>\n",
       "      <td>Lit-Verl</td>\n",
       "      <td>NaN</td>\n",
       "      <td>Bierdel, Elias 1960-</td>\n",
       "      <td>Wien [u.a.]</td>\n",
       "      <td>Wirtschaftskrise; Alternative Wirtschaftspolit...</td>\n",
       "      <td>2018-02-17</td>\n",
       "      <td>2018-04-03</td>\n",
       "      <td>2018-04-04</td>\n",
       "      <td>+J351210901</td>\n",
       "      <td>QD 110 B588</td>\n",
       "      <td>Central Library LC</td>\n",
       "      <td>Level 6</td>\n",
       "      <td>Fachhochschule</td>\n",
       "    </tr>\n",
       "    <tr>\n",
       "      <th>19997</th>\n",
       "      <td>Research methods for business students</td>\n",
       "      <td>9781292016627; 1292016620</td>\n",
       "      <td>Pearson</td>\n",
       "      <td>Saunders, Mark 1959-</td>\n",
       "      <td>Thornhill, Adrian; Lewis, Philip 1945-</td>\n",
       "      <td>Harlow, England London New York</td>\n",
       "      <td>Betriebswirtschaftslehre; Forschungsmethode; W...</td>\n",
       "      <td>2019-06-28</td>\n",
       "      <td>2019-11-12</td>\n",
       "      <td>2019-11-04</td>\n",
       "      <td>+J354232002</td>\n",
       "      <td>QP 110 S257 (7)</td>\n",
       "      <td>Central Library LC</td>\n",
       "      <td>Level 5</td>\n",
       "      <td>Campuslieferdienst</td>\n",
       "    </tr>\n",
       "    <tr>\n",
       "      <th>19998</th>\n",
       "      <td>Psychologie der Mitarbeiterfuehrung Wirtschaft...</td>\n",
       "      <td>365807275X; 9783658072759; 9783658072766; 3658...</td>\n",
       "      <td>Springer</td>\n",
       "      <td>Becker, Florian 1977-</td>\n",
       "      <td>NaN</td>\n",
       "      <td>Wiesbaden</td>\n",
       "      <td>Mitarbeiterfuehrung; Personal; Personalfuehrun...</td>\n",
       "      <td>2019-01-22</td>\n",
       "      <td>2019-03-25</td>\n",
       "      <td>2019-03-14</td>\n",
       "      <td>+J364832509</td>\n",
       "      <td>CW 4600 B395</td>\n",
       "      <td>Central Library LC</td>\n",
       "      <td>Level 6</td>\n",
       "      <td>Fachhochschule</td>\n",
       "    </tr>\n",
       "    <tr>\n",
       "      <th>19999</th>\n",
       "      <td>Reading images the grammar of visual design</td>\n",
       "      <td>9780415319140; 0415319145; 9780415319157; 0415...</td>\n",
       "      <td>Routledge</td>\n",
       "      <td>Kress, Gunther R. 1940-</td>\n",
       "      <td>Leeuwen, Theo &lt;&lt;van&gt;&gt; 1947-</td>\n",
       "      <td>London [u.a.]</td>\n",
       "      <td>Visuelle Kommunikation; Design; Bild; Semiotik</td>\n",
       "      <td>2019-10-16</td>\n",
       "      <td>2019-10-16</td>\n",
       "      <td>2019-10-16</td>\n",
       "      <td>+J324417208</td>\n",
       "      <td>ER 735 K92 (2)</td>\n",
       "      <td>Central Library LC Textbook Collection</td>\n",
       "      <td>NaN</td>\n",
       "      <td>NaN</td>\n",
       "    </tr>\n",
       "  </tbody>\n",
       "</table>\n",
       "<p>20000 rows × 15 columns</p>\n",
       "</div>"
      ],
      "text/plain": [
       "                                                   Title  \\\n",
       "0            Legal discourse across cultures and systems   \n",
       "1       Erbschaftssteuern und Doppelbesteuerungsabkommen   \n",
       "2         The Routledge companion to digital consumption   \n",
       "3      Eigentumsvorbehalt und Sicherungsuebertragung ...   \n",
       "4                                       Verfassungsrecht   \n",
       "...                                                  ...   \n",
       "19995         Klaus Vogel on double taxation conventions   \n",
       "19996  Wege aus der Krise Ideen und Konzepte fuer morgen   \n",
       "19997             Research methods for business students   \n",
       "19998  Psychologie der Mitarbeiterfuehrung Wirtschaft...   \n",
       "19999        Reading images the grammar of visual design   \n",
       "\n",
       "                                                    ISBN  \\\n",
       "0      9789622098527; 9622098525; 9789622098510; 9622...   \n",
       "1                              3707303136; 9783707303131   \n",
       "2      0415679923; 9780415679923; 9780203105306; 0203...   \n",
       "3                              3800569116; 9783800569113   \n",
       "4                              9783700765936; 3700765932   \n",
       "...                                                  ...   \n",
       "19995                          9789041160553; 9041160558   \n",
       "19996                          9783643504661; 3643504667   \n",
       "19997                          9781292016627; 1292016620   \n",
       "19998  365807275X; 9783658072759; 9783658072766; 3658...   \n",
       "19999  9780415319140; 0415319145; 9780415319157; 0415...   \n",
       "\n",
       "                           Publisher                   Author  \\\n",
       "0               Hong Kong Univ Press                      NaN   \n",
       "1                              Linde                      NaN   \n",
       "2                          Routledge                      NaN   \n",
       "3            Verl Recht u Wirtschaft                      NaN   \n",
       "4                         LexisNexis              Oesterreich   \n",
       "...                              ...                      ...   \n",
       "19995  Wolters Kluwer Law & Business                      NaN   \n",
       "19996                       Lit-Verl                      NaN   \n",
       "19997                        Pearson     Saunders, Mark 1959-   \n",
       "19998                       Springer    Becker, Florian 1977-   \n",
       "19999                      Routledge  Kress, Gunther R. 1940-   \n",
       "\n",
       "                                    Author (contributor)  \\\n",
       "0                                    Bhatia, V. K. 1942-   \n",
       "1                         Aigner, Dietmar Johannes 1973-   \n",
       "2                                 Belk, Russell W. 1945-   \n",
       "3               Fichna, Gudrun [Bearb.]; Stumpf, Herbert   \n",
       "4                   LexisNexis Verlag; Lanner, Christoph   \n",
       "...                                                  ...   \n",
       "19995  Becker, Johannes; Rust, Alexander 1973-; Reime...   \n",
       "19996                               Bierdel, Elias 1960-   \n",
       "19997             Thornhill, Adrian; Lewis, Philip 1945-   \n",
       "19998                                                NaN   \n",
       "19999                        Leeuwen, Theo <<van>> 1947-   \n",
       "\n",
       "                     Publication Place  \\\n",
       "0                            Hong Kong   \n",
       "1                                 Wien   \n",
       "2                        London [u.a.]   \n",
       "3                           Heidelberg   \n",
       "4                                 Wien   \n",
       "...                                ...   \n",
       "19995                    London [u.a.]   \n",
       "19996                      Wien [u.a.]   \n",
       "19997  Harlow, England London New York   \n",
       "19998                        Wiesbaden   \n",
       "19999                    London [u.a.]   \n",
       "\n",
       "                                                Subjects   Loan Date  \\\n",
       "0                                                    NaN  2019-05-07   \n",
       "1      Oesterreich; Doppelbesteuerungsabkommen; Erbsc...  2020-02-20   \n",
       "2      Informationstechnik; Verbraucherverhalten; Inf...  2019-06-05   \n",
       "3      Conditional sales--Automatisch aus GBV_2011-10...  2019-08-05   \n",
       "4      Quelle; Oesterreich; Verfassungsrecht; Oesterr...  2018-10-03   \n",
       "...                                                  ...         ...   \n",
       "19995                                                NaN  2019-04-26   \n",
       "19996  Wirtschaftskrise; Alternative Wirtschaftspolit...  2018-02-17   \n",
       "19997  Betriebswirtschaftslehre; Forschungsmethode; W...  2019-06-28   \n",
       "19998  Mitarbeiterfuehrung; Personal; Personalfuehrun...  2019-01-22   \n",
       "19999     Visuelle Kommunikation; Design; Bild; Semiotik  2019-10-16   \n",
       "\n",
       "         Due Date Return Date      Barcode         Item Call Number  \\\n",
       "0      2019-09-24  2019-09-09  +J361721701              HF 638 B575   \n",
       "1      2020-08-07  2020-07-15  +J313555002                 267440-B   \n",
       "2      2019-11-15  2019-10-18  +J35080040X              QW 300 B432   \n",
       "3      2019-08-05  2019-08-05  +J36762870X         PU 1533 S934 (4)   \n",
       "4      2018-10-17  2018-10-16  +J363182702                      NaN   \n",
       "...           ...         ...          ...                      ...   \n",
       "19995  2019-04-26  2019-04-26  +J358793201  PP 6843 V878 D7(4)-2 +3   \n",
       "19996  2018-04-03  2018-04-04  +J351210901              QD 110 B588   \n",
       "19997  2019-11-12  2019-11-04  +J354232002          QP 110 S257 (7)   \n",
       "19998  2019-03-25  2019-03-14  +J364832509             CW 4600 B395   \n",
       "19999  2019-10-16  2019-10-16  +J324417208           ER 735 K92 (2)   \n",
       "\n",
       "                                 Library Name   Location Name  \\\n",
       "0      Central Library LC Textbook Collection             NaN   \n",
       "1                          Central Library LC  Level -2 Books   \n",
       "2                          Central Library LC         Level 5   \n",
       "3                                      D3 Law           Books   \n",
       "4                          Central Library LC         Level 6   \n",
       "...                                       ...             ...   \n",
       "19995                              D3 Tax Law           Books   \n",
       "19996                      Central Library LC         Level 6   \n",
       "19997                      Central Library LC         Level 5   \n",
       "19998                      Central Library LC         Level 6   \n",
       "19999  Central Library LC Textbook Collection             NaN   \n",
       "\n",
       "                  User Group  \n",
       "0         Campuslieferdienst  \n",
       "1         Campuslieferdienst  \n",
       "2      WU-StudentIn inkl CLD  \n",
       "3                        NaN  \n",
       "4               WU-StudentIn  \n",
       "...                      ...  \n",
       "19995                    NaN  \n",
       "19996         Fachhochschule  \n",
       "19997     Campuslieferdienst  \n",
       "19998         Fachhochschule  \n",
       "19999                    NaN  \n",
       "\n",
       "[20000 rows x 15 columns]"
      ]
     },
     "execution_count": 16,
     "metadata": {},
     "output_type": "execute_result"
    }
   ],
   "source": [
    "lib_loan"
   ]
  },
  {
   "cell_type": "code",
   "execution_count": 17,
   "metadata": {
    "ExecuteTime": {
     "end_time": "2024-03-08T13:27:13.695741Z",
     "start_time": "2024-03-08T13:27:13.475228Z"
    }
   },
   "outputs": [
    {
     "data": {
      "text/html": [
       "<div>\n",
       "<style scoped>\n",
       "    .dataframe tbody tr th:only-of-type {\n",
       "        vertical-align: middle;\n",
       "    }\n",
       "\n",
       "    .dataframe tbody tr th {\n",
       "        vertical-align: top;\n",
       "    }\n",
       "\n",
       "    .dataframe thead th {\n",
       "        text-align: right;\n",
       "    }\n",
       "</style>\n",
       "<table border=\"1\" class=\"dataframe\">\n",
       "  <thead>\n",
       "    <tr style=\"text-align: right;\">\n",
       "      <th></th>\n",
       "      <th>Title</th>\n",
       "      <th>ISBN</th>\n",
       "      <th>Publisher</th>\n",
       "      <th>Author</th>\n",
       "      <th>Author (contributor)</th>\n",
       "      <th>Publication Place</th>\n",
       "      <th>Subjects</th>\n",
       "      <th>Loan Date</th>\n",
       "      <th>Due Date</th>\n",
       "      <th>Return Date</th>\n",
       "      <th>Barcode</th>\n",
       "      <th>Item Call Number</th>\n",
       "      <th>Library Name</th>\n",
       "      <th>Location Name</th>\n",
       "      <th>User Group</th>\n",
       "    </tr>\n",
       "  </thead>\n",
       "  <tbody>\n",
       "    <tr>\n",
       "      <th>count</th>\n",
       "      <td>20000</td>\n",
       "      <td>18104</td>\n",
       "      <td>19143</td>\n",
       "      <td>14148</td>\n",
       "      <td>13085</td>\n",
       "      <td>19443</td>\n",
       "      <td>19114</td>\n",
       "      <td>20000</td>\n",
       "      <td>20000</td>\n",
       "      <td>17943</td>\n",
       "      <td>20000</td>\n",
       "      <td>16750</td>\n",
       "      <td>20000</td>\n",
       "      <td>19527</td>\n",
       "      <td>18359</td>\n",
       "    </tr>\n",
       "    <tr>\n",
       "      <th>unique</th>\n",
       "      <td>12734</td>\n",
       "      <td>12399</td>\n",
       "      <td>2604</td>\n",
       "      <td>7813</td>\n",
       "      <td>6724</td>\n",
       "      <td>1142</td>\n",
       "      <td>12152</td>\n",
       "      <td>1777</td>\n",
       "      <td>1357</td>\n",
       "      <td>1255</td>\n",
       "      <td>17934</td>\n",
       "      <td>14883</td>\n",
       "      <td>6</td>\n",
       "      <td>54</td>\n",
       "      <td>43</td>\n",
       "    </tr>\n",
       "    <tr>\n",
       "      <th>top</th>\n",
       "      <td>Accounting and management control ... AMC ... ...</td>\n",
       "      <td>9783868943085; 3868943080; 9783863267971; 3863...</td>\n",
       "      <td>Linde</td>\n",
       "      <td>Oesterreich</td>\n",
       "      <td>Zihr, Georg; Spitzer, Martina; Riegler, Christian</td>\n",
       "      <td>Wien</td>\n",
       "      <td>Hochschulschrift</td>\n",
       "      <td>2020-03-10</td>\n",
       "      <td>2026-02-09</td>\n",
       "      <td>2020-07-13</td>\n",
       "      <td>+J363146606</td>\n",
       "      <td>Raum7</td>\n",
       "      <td>Central Library LC</td>\n",
       "      <td>Level 5</td>\n",
       "      <td>WU-StudentIn</td>\n",
       "    </tr>\n",
       "    <tr>\n",
       "      <th>freq</th>\n",
       "      <td>319</td>\n",
       "      <td>93</td>\n",
       "      <td>977</td>\n",
       "      <td>407</td>\n",
       "      <td>137</td>\n",
       "      <td>5573</td>\n",
       "      <td>225</td>\n",
       "      <td>122</td>\n",
       "      <td>635</td>\n",
       "      <td>96</td>\n",
       "      <td>6</td>\n",
       "      <td>8</td>\n",
       "      <td>14864</td>\n",
       "      <td>4020</td>\n",
       "      <td>8149</td>\n",
       "    </tr>\n",
       "  </tbody>\n",
       "</table>\n",
       "</div>"
      ],
      "text/plain": [
       "                                                    Title  \\\n",
       "count                                               20000   \n",
       "unique                                              12734   \n",
       "top     Accounting and management control ... AMC ... ...   \n",
       "freq                                                  319   \n",
       "\n",
       "                                                     ISBN Publisher  \\\n",
       "count                                               18104     19143   \n",
       "unique                                              12399      2604   \n",
       "top     9783868943085; 3868943080; 9783863267971; 3863...     Linde   \n",
       "freq                                                   93       977   \n",
       "\n",
       "             Author                               Author (contributor)  \\\n",
       "count         14148                                              13085   \n",
       "unique         7813                                               6724   \n",
       "top     Oesterreich  Zihr, Georg; Spitzer, Martina; Riegler, Christian   \n",
       "freq            407                                                137   \n",
       "\n",
       "       Publication Place          Subjects   Loan Date    Due Date  \\\n",
       "count              19443             19114       20000       20000   \n",
       "unique              1142             12152        1777        1357   \n",
       "top                 Wien  Hochschulschrift  2020-03-10  2026-02-09   \n",
       "freq                5573               225         122         635   \n",
       "\n",
       "       Return Date      Barcode Item Call Number        Library Name  \\\n",
       "count        17943        20000            16750               20000   \n",
       "unique        1255        17934            14883                   6   \n",
       "top     2020-07-13  +J363146606            Raum7  Central Library LC   \n",
       "freq            96            6                8               14864   \n",
       "\n",
       "       Location Name    User Group  \n",
       "count          19527         18359  \n",
       "unique            54            43  \n",
       "top          Level 5  WU-StudentIn  \n",
       "freq            4020          8149  "
      ]
     },
     "execution_count": 17,
     "metadata": {},
     "output_type": "execute_result"
    }
   ],
   "source": [
    "lib_loan.describe()"
   ]
  },
  {
   "cell_type": "markdown",
   "metadata": {
    "tags": []
   },
   "source": [
    "#### Data type conversions"
   ]
  },
  {
   "cell_type": "code",
   "execution_count": 18,
   "metadata": {
    "ExecuteTime": {
     "end_time": "2024-03-08T13:27:13.778416Z",
     "start_time": "2024-03-08T13:27:13.639437Z"
    }
   },
   "outputs": [
    {
     "name": "stdout",
     "output_type": "stream",
     "text": [
      "<class 'pandas.core.frame.DataFrame'>\n",
      "RangeIndex: 20000 entries, 0 to 19999\n",
      "Data columns (total 15 columns):\n",
      " #   Column                Non-Null Count  Dtype \n",
      "---  ------                --------------  ----- \n",
      " 0   Title                 20000 non-null  object\n",
      " 1   ISBN                  18104 non-null  object\n",
      " 2   Publisher             19143 non-null  object\n",
      " 3   Author                14148 non-null  object\n",
      " 4   Author (contributor)  13085 non-null  object\n",
      " 5   Publication Place     19443 non-null  object\n",
      " 6   Subjects              19114 non-null  object\n",
      " 7   Loan Date             20000 non-null  object\n",
      " 8   Due Date              20000 non-null  object\n",
      " 9   Return Date           17943 non-null  object\n",
      " 10  Barcode               20000 non-null  object\n",
      " 11  Item Call Number      16750 non-null  object\n",
      " 12  Library Name          20000 non-null  object\n",
      " 13  Location Name         19527 non-null  object\n",
      " 14  User Group            18359 non-null  object\n",
      "dtypes: object(15)\n",
      "memory usage: 2.3+ MB\n"
     ]
    }
   ],
   "source": [
    "lib_loan.info()"
   ]
  },
  {
   "cell_type": "markdown",
   "metadata": {
    "slideshow": {
     "slide_type": "slide"
    }
   },
   "source": [
    "Like before, let's convert the information about loan, due, and return dates into the correct type (this time just replacing the original columns): "
   ]
  },
  {
   "cell_type": "code",
   "execution_count": 19,
   "metadata": {
    "ExecuteTime": {
     "end_time": "2024-03-08T13:27:14.178576Z",
     "start_time": "2024-03-08T13:27:13.727063Z"
    },
    "slideshow": {
     "slide_type": "fragment"
    }
   },
   "outputs": [],
   "source": [
    "lib_loan[\"Loan Date\"] = pd.to_datetime(lib_loan[\"Loan Date\"])\n",
    "lib_loan[\"Due Date\"] = pd.to_datetime(lib_loan[\"Due Date\"])\n",
    "lib_loan[\"Return Date\"] = pd.to_datetime(lib_loan[\"Return Date\"])"
   ]
  },
  {
   "cell_type": "markdown",
   "metadata": {
    "tags": []
   },
   "source": [
    "#### Feature engineering"
   ]
  },
  {
   "cell_type": "markdown",
   "metadata": {
    "slideshow": {
     "slide_type": "slide"
    }
   },
   "source": [
    "Also, we can derive additional features for the dataset. \n",
    "\n",
    "For instance, it makes sense to add the following features:\n",
    "- `Max Loan time`: How many days was this book allowed to be borrowed?\n",
    "- `Actual Loan time`: How many days was it actually borrowed?\n",
    "- `Late Return`: Was the book returned too late (yes or no)? \n",
    "- `Days Late`: Days a book was late (if the book was late)"
   ]
  },
  {
   "cell_type": "code",
   "execution_count": 20,
   "metadata": {
    "ExecuteTime": {
     "end_time": "2024-03-08T13:27:14.179569Z",
     "start_time": "2024-03-08T13:27:14.177558Z"
    },
    "slideshow": {
     "slide_type": "fragment"
    }
   },
   "outputs": [],
   "source": [
    "import numpy as np\n",
    "\n",
    "lib_loan[\"Max Loan Time\"] = (lib_loan[\"Due Date\"] - lib_loan[\"Loan Date\"]).dt.days\n",
    "lib_loan[\"Actual Loan Time\"] = (lib_loan[\"Return Date\"] - lib_loan[\"Loan Date\"]).dt.days\n",
    "\n",
    "lib_loan[\"Late Return\"] = np.where((lib_loan[\"Return Date\"] - lib_loan[\"Due Date\"]).dt.days > 0, 1, 0)\n",
    "lib_loan[\"Days Late\"] = np.where((lib_loan[\"Actual Loan Time\"] - lib_loan[\"Max Loan Time\"]) > 0, lib_loan[\"Actual Loan Time\"] - lib_loan[\"Max Loan Time\"], 0)"
   ]
  },
  {
   "cell_type": "markdown",
   "metadata": {
    "slideshow": {
     "slide_type": "slide"
    },
    "tags": []
   },
   "source": [
    "## Summary Statistics and Exploratory Data Analysis"
   ]
  },
  {
   "cell_type": "markdown",
   "metadata": {
    "tags": []
   },
   "source": [
    "### Summary Statistics"
   ]
  },
  {
   "cell_type": "markdown",
   "metadata": {
    "slideshow": {
     "slide_type": "slide"
    }
   },
   "source": [
    "One of the first steps of EDA is a summary representation of the data and included variables. \n",
    "\n",
    "There are many options for doing this, yet often they include the following information:\n",
    "- Numerical variables\n",
    "    - Minimum\n",
    "    - Maximum\n",
    "    - Average/Mean\n",
    "    - Q1\n",
    "    - Q3\n",
    "    - Median\n",
    "    - Standard Deviation\n",
    "- Categorical variables\n",
    "    - Number unique levels\n",
    "    - Count per level\n",
    "- All variables\n",
    "    - Number of missing values\n",
    "    \n",
    "Here, let's start with the basic summary function `describe()` in Pandas:"
   ]
  },
  {
   "cell_type": "code",
   "execution_count": 21,
   "metadata": {
    "ExecuteTime": {
     "end_time": "2024-03-08T13:27:15.285980Z",
     "start_time": "2024-03-08T13:27:14.178949Z"
    },
    "slideshow": {
     "slide_type": "slide"
    }
   },
   "outputs": [
    {
     "data": {
      "text/html": [
       "<div>\n",
       "<style scoped>\n",
       "    .dataframe tbody tr th:only-of-type {\n",
       "        vertical-align: middle;\n",
       "    }\n",
       "\n",
       "    .dataframe tbody tr th {\n",
       "        vertical-align: top;\n",
       "    }\n",
       "\n",
       "    .dataframe thead th {\n",
       "        text-align: right;\n",
       "    }\n",
       "</style>\n",
       "<table border=\"1\" class=\"dataframe\">\n",
       "  <thead>\n",
       "    <tr style=\"text-align: right;\">\n",
       "      <th></th>\n",
       "      <th>Datum</th>\n",
       "      <th>Anzahl</th>\n",
       "      <th>ID</th>\n",
       "      <th>Datetime</th>\n",
       "      <th>Year</th>\n",
       "      <th>Month</th>\n",
       "      <th>Day</th>\n",
       "      <th>Hour</th>\n",
       "      <th>Minute</th>\n",
       "      <th>WeekOfYear</th>\n",
       "    </tr>\n",
       "  </thead>\n",
       "  <tbody>\n",
       "    <tr>\n",
       "      <th>count</th>\n",
       "      <td>1636047</td>\n",
       "      <td>1636047.0</td>\n",
       "      <td>1.636047e+06</td>\n",
       "      <td>1636047</td>\n",
       "      <td>1.636047e+06</td>\n",
       "      <td>1.636047e+06</td>\n",
       "      <td>1.636047e+06</td>\n",
       "      <td>1.636047e+06</td>\n",
       "      <td>1.636047e+06</td>\n",
       "      <td>1636047.0</td>\n",
       "    </tr>\n",
       "    <tr>\n",
       "      <th>mean</th>\n",
       "      <td>2019-12-26 07:10:39.617564672</td>\n",
       "      <td>1.0</td>\n",
       "      <td>3.735949e+05</td>\n",
       "      <td>2019-12-26 20:45:16.752327936</td>\n",
       "      <td>2.019536e+03</td>\n",
       "      <td>5.907070e+00</td>\n",
       "      <td>1.592777e+01</td>\n",
       "      <td>1.309232e+01</td>\n",
       "      <td>2.858828e+01</td>\n",
       "      <td>24.133898</td>\n",
       "    </tr>\n",
       "    <tr>\n",
       "      <th>min</th>\n",
       "      <td>2019-01-02 00:00:00</td>\n",
       "      <td>1.0</td>\n",
       "      <td>0.000000e+00</td>\n",
       "      <td>2019-01-02 07:58:54</td>\n",
       "      <td>2.019000e+03</td>\n",
       "      <td>1.000000e+00</td>\n",
       "      <td>1.000000e+00</td>\n",
       "      <td>1.000000e+00</td>\n",
       "      <td>0.000000e+00</td>\n",
       "      <td>1.0</td>\n",
       "    </tr>\n",
       "    <tr>\n",
       "      <th>25%</th>\n",
       "      <td>2019-04-30 00:00:00</td>\n",
       "      <td>1.0</td>\n",
       "      <td>1.882530e+05</td>\n",
       "      <td>2019-04-30 17:20:16.500000</td>\n",
       "      <td>2.019000e+03</td>\n",
       "      <td>2.000000e+00</td>\n",
       "      <td>9.000000e+00</td>\n",
       "      <td>1.100000e+01</td>\n",
       "      <td>1.300000e+01</td>\n",
       "      <td>8.0</td>\n",
       "    </tr>\n",
       "    <tr>\n",
       "      <th>50%</th>\n",
       "      <td>2019-10-22 00:00:00</td>\n",
       "      <td>1.0</td>\n",
       "      <td>3.753480e+05</td>\n",
       "      <td>2019-10-22 12:54:12</td>\n",
       "      <td>2.019000e+03</td>\n",
       "      <td>6.000000e+00</td>\n",
       "      <td>1.600000e+01</td>\n",
       "      <td>1.300000e+01</td>\n",
       "      <td>2.800000e+01</td>\n",
       "      <td>23.0</td>\n",
       "    </tr>\n",
       "    <tr>\n",
       "      <th>75%</th>\n",
       "      <td>2020-02-19 00:00:00</td>\n",
       "      <td>1.0</td>\n",
       "      <td>5.532290e+05</td>\n",
       "      <td>2020-02-19 13:50:24.500000</td>\n",
       "      <td>2.020000e+03</td>\n",
       "      <td>1.000000e+01</td>\n",
       "      <td>2.300000e+01</td>\n",
       "      <td>1.500000e+01</td>\n",
       "      <td>4.400000e+01</td>\n",
       "      <td>41.0</td>\n",
       "    </tr>\n",
       "    <tr>\n",
       "      <th>max</th>\n",
       "      <td>2022-01-16 00:00:00</td>\n",
       "      <td>1.0</td>\n",
       "      <td>7.513360e+05</td>\n",
       "      <td>2022-01-16 19:19:14</td>\n",
       "      <td>2.022000e+03</td>\n",
       "      <td>1.200000e+01</td>\n",
       "      <td>3.100000e+01</td>\n",
       "      <td>2.300000e+01</td>\n",
       "      <td>5.900000e+01</td>\n",
       "      <td>52.0</td>\n",
       "    </tr>\n",
       "    <tr>\n",
       "      <th>std</th>\n",
       "      <td>NaN</td>\n",
       "      <td>0.0</td>\n",
       "      <td>2.149425e+05</td>\n",
       "      <td>NaN</td>\n",
       "      <td>7.877643e-01</td>\n",
       "      <td>3.844702e+00</td>\n",
       "      <td>8.236678e+00</td>\n",
       "      <td>3.053524e+00</td>\n",
       "      <td>1.769139e+01</td>\n",
       "      <td>16.580112</td>\n",
       "    </tr>\n",
       "  </tbody>\n",
       "</table>\n",
       "</div>"
      ],
      "text/plain": [
       "                               Datum     Anzahl            ID  \\\n",
       "count                        1636047  1636047.0  1.636047e+06   \n",
       "mean   2019-12-26 07:10:39.617564672        1.0  3.735949e+05   \n",
       "min              2019-01-02 00:00:00        1.0  0.000000e+00   \n",
       "25%              2019-04-30 00:00:00        1.0  1.882530e+05   \n",
       "50%              2019-10-22 00:00:00        1.0  3.753480e+05   \n",
       "75%              2020-02-19 00:00:00        1.0  5.532290e+05   \n",
       "max              2022-01-16 00:00:00        1.0  7.513360e+05   \n",
       "std                              NaN        0.0  2.149425e+05   \n",
       "\n",
       "                            Datetime          Year         Month  \\\n",
       "count                        1636047  1.636047e+06  1.636047e+06   \n",
       "mean   2019-12-26 20:45:16.752327936  2.019536e+03  5.907070e+00   \n",
       "min              2019-01-02 07:58:54  2.019000e+03  1.000000e+00   \n",
       "25%       2019-04-30 17:20:16.500000  2.019000e+03  2.000000e+00   \n",
       "50%              2019-10-22 12:54:12  2.019000e+03  6.000000e+00   \n",
       "75%       2020-02-19 13:50:24.500000  2.020000e+03  1.000000e+01   \n",
       "max              2022-01-16 19:19:14  2.022000e+03  1.200000e+01   \n",
       "std                              NaN  7.877643e-01  3.844702e+00   \n",
       "\n",
       "                Day          Hour        Minute  WeekOfYear  \n",
       "count  1.636047e+06  1.636047e+06  1.636047e+06   1636047.0  \n",
       "mean   1.592777e+01  1.309232e+01  2.858828e+01   24.133898  \n",
       "min    1.000000e+00  1.000000e+00  0.000000e+00         1.0  \n",
       "25%    9.000000e+00  1.100000e+01  1.300000e+01         8.0  \n",
       "50%    1.600000e+01  1.300000e+01  2.800000e+01        23.0  \n",
       "75%    2.300000e+01  1.500000e+01  4.400000e+01        41.0  \n",
       "max    3.100000e+01  2.300000e+01  5.900000e+01        52.0  \n",
       "std    8.236678e+00  3.053524e+00  1.769139e+01   16.580112  "
      ]
     },
     "execution_count": 21,
     "metadata": {},
     "output_type": "execute_result"
    }
   ],
   "source": [
    "drehkreuz.describe()"
   ]
  },
  {
   "cell_type": "markdown",
   "metadata": {
    "slideshow": {
     "slide_type": "fragment"
    }
   },
   "source": [
    "This is fairly basic, and only works for numerical variables.\n",
    "\n",
    "We can also use additional libraries which provide their own, more descriptive summaries. \n",
    "\n",
    "Here, we use the `ydata_profiling` library that will create an extensive set of uni- and bivariate summaries."
   ]
  },
  {
   "cell_type": "code",
   "execution_count": 22,
   "metadata": {
    "ExecuteTime": {
     "end_time": "2024-03-08T13:27:15.286345Z",
     "start_time": "2024-03-08T13:27:15.173872Z"
    },
    "slideshow": {
     "slide_type": "slide"
    }
   },
   "outputs": [],
   "source": [
    "#from ydata_profiling import ProfileReport # Note: unfortunately, ydata-profiling requires an outdated Pandas version (1.2) to work, which breaks other packages\n",
    "\n",
    "#profiling_report = ProfileReport(drehkreuz) # This can take a while\n",
    "#profiling_report"
   ]
  },
  {
   "cell_type": "markdown",
   "metadata": {
    "slideshow": {
     "slide_type": "slide"
    },
    "tags": []
   },
   "source": [
    "### Visual EDA: Investigating Data through Visualizations"
   ]
  },
  {
   "cell_type": "markdown",
   "metadata": {
    "slideshow": {
     "slide_type": "slide"
    }
   },
   "source": [
    "One of the first things that you might want to do is investigate how your variables/features are distributed. \n",
    "\n",
    "Depending on the number of variables we want to investigate simultaneously, we can distinguish between some common visualizations (note that this is not an exhaustive list):\n",
    "- Univariate (single variable):\n",
    "    - Categorical\n",
    "        - Bar charts\n",
    "        - Pie charts\n",
    "    - Numerical\n",
    "        - Box plots\n",
    "        - Histograms\n",
    "        - Time series plot (if we want to plot a variable over time)\n",
    "\n",
    "- Bivariate (two variables):\n",
    "    - Scatter plot\n",
    "    - Grouped box plot\n",
    "\n",
    "Instead of going into more detail here, we will explore these visualization types in our **separate session \"Data Visualization\" (B4).** "
   ]
  },
  {
   "cell_type": "markdown",
   "metadata": {
    "slideshow": {
     "slide_type": "slide"
    },
    "tags": []
   },
   "source": [
    "## Diagnostic Analytics: Why did it happen?"
   ]
  },
  {
   "cell_type": "markdown",
   "metadata": {},
   "source": [
    "\n",
    "Building on the initial descriptive statistics, we can then investigate why certain events in the dataset happened. \n",
    "\n",
    "For example: Can we explain why the observations and variables show us the distributions that we see in the descriptive analytics steps?\n",
    "\n",
    "Let's consider the number of visitors per day. Here, we use a histogram plot that shows us the number of visitors to the library each day. "
   ]
  },
  {
   "cell_type": "code",
   "execution_count": 23,
   "metadata": {
    "ExecuteTime": {
     "end_time": "2024-03-08T13:27:17.349002Z",
     "start_time": "2024-03-08T13:27:15.280136Z"
    },
    "slideshow": {
     "slide_type": "fragment"
    }
   },
   "outputs": [
    {
     "data": {
      "image/png": "[encoded data removed]",
      "text/plain": [
       "<Figure size 640x480 with 1 Axes>"
      ]
     },
     "metadata": {},
     "output_type": "display_data"
    }
   ],
   "source": [
    "import seaborn as sns\n",
    "import matplotlib.pyplot as plt\n",
    "import matplotlib.dates as mdates\n",
    "\n",
    "fig, ax = plt.subplots()\n",
    "\n",
    "sns.histplot(data=drehkreuz, x = \"Datetime\", ax=ax)\n",
    "\n",
    "ax.xaxis.set_major_formatter(mdates.ConciseDateFormatter(ax.xaxis.get_major_locator()))\n",
    "\n",
    "for label in ax.get_xticklabels(which='major'):\n",
    "    label.set(rotation=30, horizontalalignment='right')"
   ]
  },
  {
   "cell_type": "markdown",
   "metadata": {
    "slideshow": {
     "slide_type": "slide"
    }
   },
   "source": [
    "We see several things here: \n",
    "1) a significant drop of overall visitor numbers in 2020 and 2021, compared to the years before\n",
    "2) throughout the dataset, we have several blocks of consecutive days where no visitors were recorded\n",
    "3) we also have a large block of days in early 2020 where no visitors were recorded.\n",
    "\n",
    "Can we find explanations for this behavior?\n",
    "\n",
    "It turns out, yes! \n",
    "\n",
    "Considering point 1, the most likely reason for the drop of overall visitors is the effects of the Covid-19 pandemic and the increasing number of lectures and other events that were moved online. This reduced the number of students, employees, and visitors on campus, resulting in fewer people entering the library.\n",
    "\n",
    "For point 2, a likely explanation is that the library is closed on holidays, thus no visitors are recorded entering the library.\n",
    "\n",
    "For point 3, we have to take additional context information into account. This large block of days without visitors in March/April/May 2020 coincides with the first lockdown due to Covid-19. During the lockdown, the library and other public university buildings were closed, resulting in a lack of visitors.  "
   ]
  },
  {
   "cell_type": "markdown",
   "metadata": {
    "slideshow": {
     "slide_type": "slide"
    }
   },
   "source": [
    "<div class=\"alert alert-block alert-warning\">\n",
    "<strong>Exercise:</strong><br>\n",
    "Now it's your turn. Calculate the average actual loan time for the different user groups in the data (column User Group).<br><br>\n",
    "    \n",
    "Which user groups have the highest actual loan times for books, and which ones the lowest? <br>\n",
    "Do you have a potential explanation for this different in average loan times? \n",
    "</div>\n"
   ]
  },
  {
   "cell_type": "code",
   "execution_count": 24,
   "metadata": {
    "ExecuteTime": {
     "end_time": "2024-03-08T13:30:48.945978Z",
     "start_time": "2024-03-08T13:30:47.980652Z"
    },
    "slideshow": {
     "slide_type": "fragment"
    }
   },
   "outputs": [
    {
     "name": "stderr",
     "output_type": "stream",
     "text": [
      "/tmp/ipykernel_2232/3417142433.py:5: UserWarning: set_ticklabels() should only be used with a fixed number of ticks, i.e. after set_ticks() or using a FixedLocator.\n",
      "  g.set_xticklabels(g.get_xticklabels(), rotation=90)\n"
     ]
    },
    {
     "data": {
      "image/png": "[encoded data removed]",
      "text/plain": [
       "<Figure size 640x480 with 1 Axes>"
      ]
     },
     "metadata": {},
     "output_type": "display_data"
    },
    {
     "data": {
      "text/html": [
       "<div>\n",
       "<style scoped>\n",
       "    .dataframe tbody tr th:only-of-type {\n",
       "        vertical-align: middle;\n",
       "    }\n",
       "\n",
       "    .dataframe tbody tr th {\n",
       "        vertical-align: top;\n",
       "    }\n",
       "\n",
       "    .dataframe thead th {\n",
       "        text-align: right;\n",
       "    }\n",
       "</style>\n",
       "<table border=\"1\" class=\"dataframe\">\n",
       "  <thead>\n",
       "    <tr style=\"text-align: right;\">\n",
       "      <th></th>\n",
       "      <th>User Group</th>\n",
       "      <th>Actual Loan Time</th>\n",
       "    </tr>\n",
       "  </thead>\n",
       "  <tbody>\n",
       "    <tr>\n",
       "      <th>42</th>\n",
       "      <td>Z55</td>\n",
       "      <td>1830.950820</td>\n",
       "    </tr>\n",
       "    <tr>\n",
       "      <th>40</th>\n",
       "      <td>Z40</td>\n",
       "      <td>1267.326284</td>\n",
       "    </tr>\n",
       "    <tr>\n",
       "      <th>30</th>\n",
       "      <td>Z10</td>\n",
       "      <td>1207.500000</td>\n",
       "    </tr>\n",
       "    <tr>\n",
       "      <th>26</th>\n",
       "      <td>Z04</td>\n",
       "      <td>903.600000</td>\n",
       "    </tr>\n",
       "    <tr>\n",
       "      <th>41</th>\n",
       "      <td>Z41</td>\n",
       "      <td>457.672414</td>\n",
       "    </tr>\n",
       "    <tr>\n",
       "      <th>5</th>\n",
       "      <td>Handapparat</td>\n",
       "      <td>263.769231</td>\n",
       "    </tr>\n",
       "    <tr>\n",
       "      <th>22</th>\n",
       "      <td>WU-StudentIn inkl CLD</td>\n",
       "      <td>213.192529</td>\n",
       "    </tr>\n",
       "    <tr>\n",
       "      <th>1</th>\n",
       "      <td>Campuslieferdienst</td>\n",
       "      <td>203.246080</td>\n",
       "    </tr>\n",
       "    <tr>\n",
       "      <th>8</th>\n",
       "      <td>Keine Einschreibgebuehr</td>\n",
       "      <td>195.000000</td>\n",
       "    </tr>\n",
       "    <tr>\n",
       "      <th>37</th>\n",
       "      <td>Z21</td>\n",
       "      <td>190.333333</td>\n",
       "    </tr>\n",
       "    <tr>\n",
       "      <th>38</th>\n",
       "      <td>Z22</td>\n",
       "      <td>188.000000</td>\n",
       "    </tr>\n",
       "    <tr>\n",
       "      <th>27</th>\n",
       "      <td>Z06</td>\n",
       "      <td>175.000000</td>\n",
       "    </tr>\n",
       "    <tr>\n",
       "      <th>10</th>\n",
       "      <td>ProfessorIn</td>\n",
       "      <td>128.000000</td>\n",
       "    </tr>\n",
       "    <tr>\n",
       "      <th>24</th>\n",
       "      <td>Z02</td>\n",
       "      <td>122.709677</td>\n",
       "    </tr>\n",
       "    <tr>\n",
       "      <th>20</th>\n",
       "      <td>WU-Student inkl CLD</td>\n",
       "      <td>121.906844</td>\n",
       "    </tr>\n",
       "    <tr>\n",
       "      <th>29</th>\n",
       "      <td>Z09</td>\n",
       "      <td>115.000000</td>\n",
       "    </tr>\n",
       "    <tr>\n",
       "      <th>19</th>\n",
       "      <td>WU-Personal inkl LBS</td>\n",
       "      <td>103.784848</td>\n",
       "    </tr>\n",
       "    <tr>\n",
       "      <th>23</th>\n",
       "      <td>Z01</td>\n",
       "      <td>97.331897</td>\n",
       "    </tr>\n",
       "    <tr>\n",
       "      <th>28</th>\n",
       "      <td>Z07</td>\n",
       "      <td>97.000000</td>\n",
       "    </tr>\n",
       "    <tr>\n",
       "      <th>25</th>\n",
       "      <td>Z03</td>\n",
       "      <td>96.166667</td>\n",
       "    </tr>\n",
       "    <tr>\n",
       "      <th>34</th>\n",
       "      <td>Z16</td>\n",
       "      <td>94.047619</td>\n",
       "    </tr>\n",
       "    <tr>\n",
       "      <th>3</th>\n",
       "      <td>Externe LektorInnen</td>\n",
       "      <td>90.350000</td>\n",
       "    </tr>\n",
       "    <tr>\n",
       "      <th>33</th>\n",
       "      <td>Z15</td>\n",
       "      <td>90.000000</td>\n",
       "    </tr>\n",
       "    <tr>\n",
       "      <th>6</th>\n",
       "      <td>Institution</td>\n",
       "      <td>88.480000</td>\n",
       "    </tr>\n",
       "    <tr>\n",
       "      <th>11</th>\n",
       "      <td>SchuelerIn</td>\n",
       "      <td>75.479730</td>\n",
       "    </tr>\n",
       "    <tr>\n",
       "      <th>0</th>\n",
       "      <td>BibliothekarIn</td>\n",
       "      <td>62.597015</td>\n",
       "    </tr>\n",
       "    <tr>\n",
       "      <th>35</th>\n",
       "      <td>Z18</td>\n",
       "      <td>62.000000</td>\n",
       "    </tr>\n",
       "    <tr>\n",
       "      <th>18</th>\n",
       "      <td>WU-Personal</td>\n",
       "      <td>61.539855</td>\n",
       "    </tr>\n",
       "    <tr>\n",
       "      <th>39</th>\n",
       "      <td>Z30</td>\n",
       "      <td>61.000000</td>\n",
       "    </tr>\n",
       "    <tr>\n",
       "      <th>9</th>\n",
       "      <td>Privatuniversitaet</td>\n",
       "      <td>57.766129</td>\n",
       "    </tr>\n",
       "    <tr>\n",
       "      <th>2</th>\n",
       "      <td>Ex WU-StudentIn</td>\n",
       "      <td>57.147541</td>\n",
       "    </tr>\n",
       "    <tr>\n",
       "      <th>4</th>\n",
       "      <td>Fachhochschule</td>\n",
       "      <td>56.399804</td>\n",
       "    </tr>\n",
       "    <tr>\n",
       "      <th>14</th>\n",
       "      <td>StudentIn andere Uni</td>\n",
       "      <td>54.667178</td>\n",
       "    </tr>\n",
       "    <tr>\n",
       "      <th>7</th>\n",
       "      <td>Jahreskarte</td>\n",
       "      <td>54.099138</td>\n",
       "    </tr>\n",
       "    <tr>\n",
       "      <th>15</th>\n",
       "      <td>WU-Alumni</td>\n",
       "      <td>53.628571</td>\n",
       "    </tr>\n",
       "    <tr>\n",
       "      <th>12</th>\n",
       "      <td>Sechs-Monatskarte</td>\n",
       "      <td>46.387097</td>\n",
       "    </tr>\n",
       "    <tr>\n",
       "      <th>32</th>\n",
       "      <td>Z13</td>\n",
       "      <td>45.444444</td>\n",
       "    </tr>\n",
       "    <tr>\n",
       "      <th>31</th>\n",
       "      <td>Z11</td>\n",
       "      <td>42.500000</td>\n",
       "    </tr>\n",
       "    <tr>\n",
       "      <th>21</th>\n",
       "      <td>WU-StudentIn</td>\n",
       "      <td>42.245852</td>\n",
       "    </tr>\n",
       "    <tr>\n",
       "      <th>36</th>\n",
       "      <td>Z20</td>\n",
       "      <td>39.500000</td>\n",
       "    </tr>\n",
       "    <tr>\n",
       "      <th>17</th>\n",
       "      <td>WU-Lehrgang</td>\n",
       "      <td>35.250000</td>\n",
       "    </tr>\n",
       "    <tr>\n",
       "      <th>13</th>\n",
       "      <td>Sprachkurs</td>\n",
       "      <td>29.000000</td>\n",
       "    </tr>\n",
       "    <tr>\n",
       "      <th>16</th>\n",
       "      <td>WU-DissertantIn</td>\n",
       "      <td>10.333333</td>\n",
       "    </tr>\n",
       "  </tbody>\n",
       "</table>\n",
       "</div>"
      ],
      "text/plain": [
       "                 User Group  Actual Loan Time\n",
       "42                      Z55       1830.950820\n",
       "40                      Z40       1267.326284\n",
       "30                      Z10       1207.500000\n",
       "26                      Z04        903.600000\n",
       "41                      Z41        457.672414\n",
       "5               Handapparat        263.769231\n",
       "22    WU-StudentIn inkl CLD        213.192529\n",
       "1        Campuslieferdienst        203.246080\n",
       "8   Keine Einschreibgebuehr        195.000000\n",
       "37                      Z21        190.333333\n",
       "38                      Z22        188.000000\n",
       "27                      Z06        175.000000\n",
       "10              ProfessorIn        128.000000\n",
       "24                      Z02        122.709677\n",
       "20      WU-Student inkl CLD        121.906844\n",
       "29                      Z09        115.000000\n",
       "19     WU-Personal inkl LBS        103.784848\n",
       "23                      Z01         97.331897\n",
       "28                      Z07         97.000000\n",
       "25                      Z03         96.166667\n",
       "34                      Z16         94.047619\n",
       "3       Externe LektorInnen         90.350000\n",
       "33                      Z15         90.000000\n",
       "6               Institution         88.480000\n",
       "11               SchuelerIn         75.479730\n",
       "0            BibliothekarIn         62.597015\n",
       "35                      Z18         62.000000\n",
       "18              WU-Personal         61.539855\n",
       "39                      Z30         61.000000\n",
       "9        Privatuniversitaet         57.766129\n",
       "2           Ex WU-StudentIn         57.147541\n",
       "4            Fachhochschule         56.399804\n",
       "14     StudentIn andere Uni         54.667178\n",
       "7               Jahreskarte         54.099138\n",
       "15                WU-Alumni         53.628571\n",
       "12        Sechs-Monatskarte         46.387097\n",
       "32                      Z13         45.444444\n",
       "31                      Z11         42.500000\n",
       "21             WU-StudentIn         42.245852\n",
       "36                      Z20         39.500000\n",
       "17              WU-Lehrgang         35.250000\n",
       "13               Sprachkurs         29.000000\n",
       "16          WU-DissertantIn         10.333333"
      ]
     },
     "execution_count": 24,
     "metadata": {},
     "output_type": "execute_result"
    }
   ],
   "source": [
    "import matplotlib.pyplot as plt\n",
    "lib_loan_plot = lib_loan.groupby(['User Group'], as_index = False)['Actual Loan Time'].mean().sort_values(\"Actual Loan Time\", ascending = False)\n",
    "\n",
    "g = sns.scatterplot(data=lib_loan_plot, x=\"User Group\", y = \"Actual Loan Time\")\n",
    "g.set_xticklabels(g.get_xticklabels(), rotation=90)\n",
    "plt.ylabel(\"Avg. Actual Loan Time\")\n",
    "\n",
    "plt.show()\n",
    "lib_loan_plot"
   ]
  },
  {
   "cell_type": "markdown",
   "metadata": {
    "slideshow": {
     "slide_type": "slide"
    }
   },
   "source": [
    "## Further Data Preparation"
   ]
  },
  {
   "cell_type": "markdown",
   "metadata": {
    "tags": []
   },
   "source": [
    "### Transforming variables"
   ]
  },
  {
   "cell_type": "markdown",
   "metadata": {},
   "source": [
    "\n",
    "Some of the most common transformations are:\n",
    "\n",
    "-   **Numerical** variables: centering, scaling, normalization\n",
    "\n",
    "-   **Categorical** variables: transcoding, combining several categories/levels into a new category"
   ]
  },
  {
   "cell_type": "markdown",
   "metadata": {},
   "source": [
    "Let's look at an example for numerical variables.."
   ]
  },
  {
   "cell_type": "markdown",
   "metadata": {
    "tags": []
   },
   "source": [
    "#### Scaling"
   ]
  },
  {
   "cell_type": "code",
   "execution_count": 25,
   "metadata": {
    "ExecuteTime": {
     "end_time": "2024-03-08T13:30:59.665787Z",
     "start_time": "2024-03-08T13:30:59.557105Z"
    },
    "slideshow": {
     "slide_type": "slide"
    }
   },
   "outputs": [],
   "source": [
    "# create a scaled representation of the loan data\n",
    "from sklearn.preprocessing import StandardScaler, MinMaxScaler\n",
    "\n",
    "# the StandardScaler will transform the variable into having a mean of 0 and a unit-variance (i.e., standard deviation of 1)\n",
    "standard_scaler = StandardScaler()\n",
    "lib_loan[\"Max Loan Time Scaled\"] = standard_scaler.fit_transform(lib_loan[[\"Max Loan Time\"]]) \n",
    "\n",
    "# the MinMaxScaler will transform the variable to the range [0, 1]\n",
    "min_max_scaler = MinMaxScaler()\n",
    "lib_loan[\"Actual Loan Time Scaled_min_max\"] = min_max_scaler.fit_transform(lib_loan[[\"Actual Loan Time\"]]) "
   ]
  },
  {
   "cell_type": "markdown",
   "metadata": {
    "slideshow": {
     "slide_type": "slide"
    }
   },
   "source": [
    "Let's check if the transformation worked:"
   ]
  },
  {
   "cell_type": "code",
   "execution_count": 26,
   "metadata": {
    "ExecuteTime": {
     "end_time": "2024-03-08T13:31:09.086880Z",
     "start_time": "2024-03-08T13:31:09.001270Z"
    },
    "slideshow": {
     "slide_type": "fragment"
    }
   },
   "outputs": [
    {
     "data": {
      "text/html": [
       "<div>\n",
       "<style scoped>\n",
       "    .dataframe tbody tr th:only-of-type {\n",
       "        vertical-align: middle;\n",
       "    }\n",
       "\n",
       "    .dataframe tbody tr th {\n",
       "        vertical-align: top;\n",
       "    }\n",
       "\n",
       "    .dataframe thead th {\n",
       "        text-align: right;\n",
       "    }\n",
       "</style>\n",
       "<table border=\"1\" class=\"dataframe\">\n",
       "  <thead>\n",
       "    <tr style=\"text-align: right;\">\n",
       "      <th></th>\n",
       "      <th>Max Loan Time</th>\n",
       "      <th>Max Loan Time Scaled</th>\n",
       "      <th>Actual Loan Time</th>\n",
       "      <th>Actual Loan Time Scaled_min_max</th>\n",
       "    </tr>\n",
       "  </thead>\n",
       "  <tbody>\n",
       "    <tr>\n",
       "      <th>count</th>\n",
       "      <td>20000.00000</td>\n",
       "      <td>2.000000e+04</td>\n",
       "      <td>17943.000000</td>\n",
       "      <td>17943.000000</td>\n",
       "    </tr>\n",
       "    <tr>\n",
       "      <th>mean</th>\n",
       "      <td>375.23935</td>\n",
       "      <td>-8.348877e-18</td>\n",
       "      <td>98.049657</td>\n",
       "      <td>0.025647</td>\n",
       "    </tr>\n",
       "    <tr>\n",
       "      <th>std</th>\n",
       "      <td>1159.15646</td>\n",
       "      <td>1.000025e+00</td>\n",
       "      <td>301.530800</td>\n",
       "      <td>0.078873</td>\n",
       "    </tr>\n",
       "    <tr>\n",
       "      <th>min</th>\n",
       "      <td>0.00000</td>\n",
       "      <td>-3.237257e-01</td>\n",
       "      <td>0.000000</td>\n",
       "      <td>0.000000</td>\n",
       "    </tr>\n",
       "    <tr>\n",
       "      <th>25%</th>\n",
       "      <td>19.00000</td>\n",
       "      <td>-3.073341e-01</td>\n",
       "      <td>14.000000</td>\n",
       "      <td>0.003662</td>\n",
       "    </tr>\n",
       "    <tr>\n",
       "      <th>50%</th>\n",
       "      <td>42.00000</td>\n",
       "      <td>-2.874915e-01</td>\n",
       "      <td>37.000000</td>\n",
       "      <td>0.009678</td>\n",
       "    </tr>\n",
       "    <tr>\n",
       "      <th>75%</th>\n",
       "      <td>132.00000</td>\n",
       "      <td>-2.098469e-01</td>\n",
       "      <td>87.000000</td>\n",
       "      <td>0.022757</td>\n",
       "    </tr>\n",
       "    <tr>\n",
       "      <th>max</th>\n",
       "      <td>7495.00000</td>\n",
       "      <td>6.142345e+00</td>\n",
       "      <td>3823.000000</td>\n",
       "      <td>1.000000</td>\n",
       "    </tr>\n",
       "  </tbody>\n",
       "</table>\n",
       "</div>"
      ],
      "text/plain": [
       "       Max Loan Time  Max Loan Time Scaled  Actual Loan Time  \\\n",
       "count    20000.00000          2.000000e+04      17943.000000   \n",
       "mean       375.23935         -8.348877e-18         98.049657   \n",
       "std       1159.15646          1.000025e+00        301.530800   \n",
       "min          0.00000         -3.237257e-01          0.000000   \n",
       "25%         19.00000         -3.073341e-01         14.000000   \n",
       "50%         42.00000         -2.874915e-01         37.000000   \n",
       "75%        132.00000         -2.098469e-01         87.000000   \n",
       "max       7495.00000          6.142345e+00       3823.000000   \n",
       "\n",
       "       Actual Loan Time Scaled_min_max  \n",
       "count                     17943.000000  \n",
       "mean                          0.025647  \n",
       "std                           0.078873  \n",
       "min                           0.000000  \n",
       "25%                           0.003662  \n",
       "50%                           0.009678  \n",
       "75%                           0.022757  \n",
       "max                           1.000000  "
      ]
     },
     "execution_count": 26,
     "metadata": {},
     "output_type": "execute_result"
    }
   ],
   "source": [
    "lib_loan[[\"Max Loan Time\", \"Max Loan Time Scaled\", \"Actual Loan Time\", \"Actual Loan Time Scaled_min_max\"]].describe()"
   ]
  },
  {
   "cell_type": "markdown",
   "metadata": {
    "slideshow": {
     "slide_type": "slide"
    }
   },
   "source": [
    "**Why would scaling be useful?**\n",
    "\n",
    "On the one hand, some clustering/regression/classification methods work better/converge faster with scaled data. \n",
    "\n",
    "On the other hand, from an interpretation perspective the new center (mean 0) represents the 'average' customer value for this variable. Values smaller than 0 indicate lower than average, and values above 0 higher than average values."
   ]
  },
  {
   "cell_type": "markdown",
   "metadata": {
    "slideshow": {
     "slide_type": "slide"
    },
    "tags": []
   },
   "source": [
    "### Feature Selection"
   ]
  },
  {
   "cell_type": "markdown",
   "metadata": {},
   "source": [
    "\n",
    "Often, we have many different variables in our data that we could potentially use in the subsequent analysis. However, using many variables increases the complexity of the models, yet does not necessarily increase their usefulness (see also: **curse of dimensionality**). \n",
    "\n",
    "Hence, the step of **Variable Selection** (or **Feature Selection**) has the goal to identify the actually useful variables for consideration in analytic models. \n",
    "\n",
    "However, this is not straigtforward. Specifically, identifying relevant variables to include is often dependent on the type of model that is being used in the subsequent steps. Generally, we can distinguish between the following types of Variable Selection models:\n",
    "\n",
    "<img src=\"FeatureSelection.png\" width=\"1200px\">\n",
    "\n"
   ]
  },
  {
   "cell_type": "markdown",
   "metadata": {
    "tags": []
   },
   "source": [
    "# Unsupervised Learning"
   ]
  },
  {
   "cell_type": "markdown",
   "metadata": {
    "slideshow": {
     "slide_type": "slide"
    },
    "tags": []
   },
   "source": [
    "Once we have gained an initial data understanding (and performed our initial data preparation steps), we move on to the modeling part of the Data Analytics lifecycle. "
   ]
  },
  {
   "cell_type": "markdown",
   "metadata": {
    "tags": []
   },
   "source": [
    "## Supervised vs. unsupervised learning"
   ]
  },
  {
   "cell_type": "markdown",
   "metadata": {},
   "source": [
    "Here, we distinguish between two different types of models: **Unsupervised Models**, and **Supervised Models**.\n",
    "\n",
    "<img src=\"SupervisedVsUnsupervised.png\" width=\"1200px\">\n",
    "\n",
    "Briefly, in unsupervised learning we are interested in the relationships between variables and/or observations in our data. Yet, we do not have a specific **target variable** that we want to predict or understand. \n",
    "\n",
    "In contrast, supervised learning considers models that aim to model a **target variable** as a function of (a set of) variables in the dataset."
   ]
  },
  {
   "cell_type": "markdown",
   "metadata": {
    "tags": []
   },
   "source": [
    "## Types of unsupervised methods"
   ]
  },
  {
   "cell_type": "markdown",
   "metadata": {
    "slideshow": {
     "slide_type": "slide"
    }
   },
   "source": [
    "In this section, we focus on **unsupervised learning**, specifically **clustering**. In general, depending on whether we want to explore relationships between the variables or between the observations, we can also distinguish between different unsupervised learning approaches:\n",
    "\n",
    "<img src=\"UnsupervisedLearning.png\" width=\"1200px\">"
   ]
  },
  {
   "cell_type": "markdown",
   "metadata": {
    "slideshow": {
     "slide_type": "slide"
    },
    "tags": []
   },
   "source": [
    "## Clustering"
   ]
  },
  {
   "cell_type": "markdown",
   "metadata": {
    "tags": []
   },
   "source": [
    "### Overview"
   ]
  },
  {
   "cell_type": "markdown",
   "metadata": {},
   "source": [
    "Typically, understanding the relationships between the observations/records in your data is one of the first steps that you conduct in a Data Analytics project. This can be in the form of descriptive statistics as we've explored before(e.g., calculating correlations, or visualizing various relationships between variables). Here, we focus on a different approach: **Clustering**.\n",
    "\n",
    "The idea behind clustering is to find observations (e.g., visitors, books) that are similar to each other, and group them in the same clusters. The goal is to find clusters that represent observations that are similar to each other, while observations between different clusters should be different.\n",
    "\n",
    "<img src=\"Clustering.png\" width=\"1200px\">"
   ]
  },
  {
   "cell_type": "markdown",
   "metadata": {
    "slideshow": {
     "slide_type": "slide"
    }
   },
   "source": [
    "One of the most common examples is **Market Segmentation**. In this use case, the goal is to group customers into different groups (segments) that represent different customer characteristics. E.g., one cluster could be young professionals with high disposable income, the other cluster retired people with less income. \n",
    "In our case, we might want to find groups of visitors, or groups of books, with similar characteristics. \n",
    "\n",
    "Two main questions in clustering that we need to address are:\n",
    "\n",
    "1.  How do we define **similarity** between observations? I.e., when do we define two observations in our data to be similar, and when do we define them as different?\n",
    "\n",
    "2.  Which variables (e.g., customer characteristics) do I want to include in this analysis?"
   ]
  },
  {
   "cell_type": "markdown",
   "metadata": {
    "slideshow": {
     "slide_type": "slide"
    },
    "tags": []
   },
   "source": [
    "### Calculate (Dis)Similarity"
   ]
  },
  {
   "cell_type": "markdown",
   "metadata": {},
   "source": [
    "Next, let us define, and calculate, the similarity between observations. Technically, we need to calculate the similarity for each pair of observations.\n",
    "\n",
    "One of the most common similarity measures is the Euclidean distance:\n",
    "\n",
    "$Euclidean Distance(x_i,x_j) = \\sqrt(\\sum_{l=1}^{p}(x_{i,l}-x_{j,l})^2)$\n",
    "\n",
    "However, this is only defined for numerical variables. For categorical variables, it's more complicated and we need to convert them into a numerical representation first and use an appropriate clustering algorithm next.\n",
    "\n",
    "Here, we simply use two numerical features and will use the standard Euclidean distance measure\n",
    "<!-- Here, we use the **Gower dissimilarity**. -->"
   ]
  },
  {
   "cell_type": "markdown",
   "metadata": {
    "slideshow": {
     "slide_type": "slide"
    },
    "tags": []
   },
   "source": [
    "### Calculate the clustering"
   ]
  },
  {
   "cell_type": "markdown",
   "metadata": {},
   "source": [
    "Once we have calculated the dissimilarity matrix, we can use a clustering algorithm to aggregate observations into clusters. Similar observations, i.e., observations with a small pairwise distance, will be grouped together, and observations with a large dissimilarity should be grouped into different clusters.\n",
    "\n",
    "For some clustering algorithms such as the **k-means algorithm**, we need to provide the number of clusters that we want to create. Finding a \"good\" number of clusters is a challenging tasks and will be discussed in more detail below. Other algorithms, e.g. **agglomerative approaches** such as **hierarchical clustering**, do not require the number of clusters to be specified beforehand, yet the same challenge of determining a \"good\" number of clusters remain."
   ]
  },
  {
   "cell_type": "markdown",
   "metadata": {
    "slideshow": {
     "slide_type": "slide"
    }
   },
   "source": [
    "Here, we use the **k-means algorithm** and use only two variables for the distance calculation: max loan time, and actual loan time. \n",
    "\n",
    "The **k-means algorithm** is a heuristic that works as follows:\n",
    "1) Randomly allocate observations to one of the k clusters\n",
    "\n",
    "2) Calculate cluster centroid for each cluster\n",
    "\n",
    "3) Calculate the distance of each observation to every cluster centroid\n",
    "\n",
    "4) Re-allocate observations to the closest cluster centroid.\n",
    "\n",
    "5) Repeat steps 2-4 until no observation is re-allocated."
   ]
  },
  {
   "cell_type": "markdown",
   "metadata": {
    "slideshow": {
     "slide_type": "slide"
    }
   },
   "source": [
    "<div class=\"alert alert-block alert-info\">\n",
    "<strong>k-means as heuristic:</strong>\n",
    "Note that k-means is a heuristic that iteratively re-calculates the clusters, cluster centroids, and which observation belongs to which cluster. Hence, the result will depend on the initialization of the process, i.e., which cluster the observations are allocated to in the first step. \n",
    "To allow for the reproducibility of the results, we can add a \"random_state\" to the kmeans function that sets the underlying random number generator to a specific state.\n",
    "</div>"
   ]
  },
  {
   "cell_type": "markdown",
   "metadata": {
    "slideshow": {
     "slide_type": "slide"
    }
   },
   "source": [
    "Let's visualize this in a step-by-step approach:\n",
    "\n",
    "<img src=\"K-Means.png\" width=\"1200px\">"
   ]
  },
  {
   "cell_type": "code",
   "execution_count": 27,
   "metadata": {
    "ExecuteTime": {
     "end_time": "2024-03-08T13:31:20.340718Z",
     "start_time": "2024-03-08T13:31:18.376511Z"
    },
    "slideshow": {
     "slide_type": "slide"
    }
   },
   "outputs": [],
   "source": [
    "from sklearn.cluster import KMeans\n",
    "\n",
    "# note that we also need to drop any NAs here as kmeans does not handle NA values\n",
    "lib_loan_no_na = lib_loan.dropna(subset =[\"Max Loan Time\", \"Actual Loan Time\"]).reset_index()\n",
    "\n",
    "X = lib_loan_no_na[[\"Max Loan Time\", \"Actual Loan Time\"]].values\n",
    "\n",
    "# for k-means, we need to specify the number of clusters. Let's use 4 for now, but this will need to be re-evaluated in more detail.\n",
    "n_cluster = 4\n",
    "\n",
    "# We can also specify how many times the k-means should be run with varying centroid seeds - we will use 10 runs for now (sklearn will report the best result in terms of inertia)\n",
    "n_init = 10\n",
    "\n",
    "kmeans = KMeans(n_clusters=n_cluster, n_init=n_init, random_state=1).fit(X)"
   ]
  },
  {
   "cell_type": "markdown",
   "metadata": {
    "slideshow": {
     "slide_type": "slide"
    }
   },
   "source": [
    "How do we get the information which observation belongs to which cluster? This information is saved as part of the output of the clustering method:"
   ]
  },
  {
   "cell_type": "code",
   "execution_count": 28,
   "metadata": {
    "ExecuteTime": {
     "end_time": "2024-03-08T13:31:24.451968Z",
     "start_time": "2024-03-08T13:31:24.347837Z"
    },
    "slideshow": {
     "slide_type": "fragment"
    }
   },
   "outputs": [
    {
     "data": {
      "text/plain": [
       "array([3, 3, 3, ..., 3, 0, 0], dtype=int32)"
      ]
     },
     "execution_count": 28,
     "metadata": {},
     "output_type": "execute_result"
    }
   ],
   "source": [
    "# we can get the information which observation belongs to which cluster, and also the cluster center information\n",
    "\n",
    "# the labels are the cluster id's for each observation\n",
    "kmeans.labels_"
   ]
  },
  {
   "cell_type": "markdown",
   "metadata": {
    "slideshow": {
     "slide_type": "slide"
    }
   },
   "source": [
    "We can also investigate the cluster centers. Here, as we have 4 clusters built on 2 variables, each cluster center will have one value for each variable, representing where in the 2-dimensional space it is."
   ]
  },
  {
   "cell_type": "code",
   "execution_count": 29,
   "metadata": {
    "ExecuteTime": {
     "end_time": "2024-03-08T13:31:27.778434Z",
     "start_time": "2024-03-08T13:31:27.748825Z"
    },
    "slideshow": {
     "slide_type": "fragment"
    }
   },
   "outputs": [
    {
     "data": {
      "text/plain": [
       "array([[  35.7037854 ,   30.00704426],\n",
       "       [3708.55263158,  756.38596491],\n",
       "       [5209.86976744, 2590.6744186 ],\n",
       "       [ 200.34157303,  195.04578652]])"
      ]
     },
     "execution_count": 29,
     "metadata": {},
     "output_type": "execute_result"
    }
   ],
   "source": [
    "kmeans.cluster_centers_"
   ]
  },
  {
   "cell_type": "markdown",
   "metadata": {
    "slideshow": {
     "slide_type": "slide"
    }
   },
   "source": [
    "We can calculate the number of observations in each cluster:"
   ]
  },
  {
   "cell_type": "code",
   "execution_count": 30,
   "metadata": {
    "ExecuteTime": {
     "end_time": "2024-03-08T13:31:31.128708Z",
     "start_time": "2024-03-08T13:31:31.073400Z"
    },
    "slideshow": {
     "slide_type": "fragment"
    }
   },
   "outputs": [
    {
     "data": {
      "text/plain": [
       "Counter({3: 3560, 0: 14054, 1: 114, 2: 215})"
      ]
     },
     "execution_count": 30,
     "metadata": {},
     "output_type": "execute_result"
    }
   ],
   "source": [
    "from collections import Counter\n",
    "Counter(kmeans.labels_)"
   ]
  },
  {
   "cell_type": "markdown",
   "metadata": {
    "slideshow": {
     "slide_type": "slide"
    }
   },
   "source": [
    "Let's visualize the clusters as well. "
   ]
  },
  {
   "cell_type": "code",
   "execution_count": 31,
   "metadata": {
    "ExecuteTime": {
     "end_time": "2024-03-08T13:31:34.096068Z",
     "start_time": "2024-03-08T13:31:34.062461Z"
    },
    "slideshow": {
     "slide_type": "fragment"
    }
   },
   "outputs": [
    {
     "data": {
      "text/html": [
       "<div>\n",
       "<style scoped>\n",
       "    .dataframe tbody tr th:only-of-type {\n",
       "        vertical-align: middle;\n",
       "    }\n",
       "\n",
       "    .dataframe tbody tr th {\n",
       "        vertical-align: top;\n",
       "    }\n",
       "\n",
       "    .dataframe thead th {\n",
       "        text-align: right;\n",
       "    }\n",
       "</style>\n",
       "<table border=\"1\" class=\"dataframe\">\n",
       "  <thead>\n",
       "    <tr style=\"text-align: right;\">\n",
       "      <th></th>\n",
       "      <th>Max Loan Time</th>\n",
       "      <th>Actual Loan Time</th>\n",
       "      <th>Cluster</th>\n",
       "    </tr>\n",
       "  </thead>\n",
       "  <tbody>\n",
       "    <tr>\n",
       "      <th>0</th>\n",
       "      <td>140</td>\n",
       "      <td>125.0</td>\n",
       "      <td>3</td>\n",
       "    </tr>\n",
       "    <tr>\n",
       "      <th>1</th>\n",
       "      <td>169</td>\n",
       "      <td>146.0</td>\n",
       "      <td>3</td>\n",
       "    </tr>\n",
       "    <tr>\n",
       "      <th>2</th>\n",
       "      <td>163</td>\n",
       "      <td>135.0</td>\n",
       "      <td>3</td>\n",
       "    </tr>\n",
       "    <tr>\n",
       "      <th>3</th>\n",
       "      <td>0</td>\n",
       "      <td>0.0</td>\n",
       "      <td>0</td>\n",
       "    </tr>\n",
       "    <tr>\n",
       "      <th>4</th>\n",
       "      <td>14</td>\n",
       "      <td>13.0</td>\n",
       "      <td>0</td>\n",
       "    </tr>\n",
       "    <tr>\n",
       "      <th>...</th>\n",
       "      <td>...</td>\n",
       "      <td>...</td>\n",
       "      <td>...</td>\n",
       "    </tr>\n",
       "    <tr>\n",
       "      <th>19995</th>\n",
       "      <td>0</td>\n",
       "      <td>0.0</td>\n",
       "      <td>0</td>\n",
       "    </tr>\n",
       "    <tr>\n",
       "      <th>19996</th>\n",
       "      <td>45</td>\n",
       "      <td>46.0</td>\n",
       "      <td>0</td>\n",
       "    </tr>\n",
       "    <tr>\n",
       "      <th>19997</th>\n",
       "      <td>137</td>\n",
       "      <td>129.0</td>\n",
       "      <td>3</td>\n",
       "    </tr>\n",
       "    <tr>\n",
       "      <th>19998</th>\n",
       "      <td>62</td>\n",
       "      <td>51.0</td>\n",
       "      <td>0</td>\n",
       "    </tr>\n",
       "    <tr>\n",
       "      <th>19999</th>\n",
       "      <td>0</td>\n",
       "      <td>0.0</td>\n",
       "      <td>0</td>\n",
       "    </tr>\n",
       "  </tbody>\n",
       "</table>\n",
       "<p>17943 rows × 3 columns</p>\n",
       "</div>"
      ],
      "text/plain": [
       "       Max Loan Time  Actual Loan Time  Cluster\n",
       "0                140             125.0        3\n",
       "1                169             146.0        3\n",
       "2                163             135.0        3\n",
       "3                  0               0.0        0\n",
       "4                 14              13.0        0\n",
       "...              ...               ...      ...\n",
       "19995              0               0.0        0\n",
       "19996             45              46.0        0\n",
       "19997            137             129.0        3\n",
       "19998             62              51.0        0\n",
       "19999              0               0.0        0\n",
       "\n",
       "[17943 rows x 3 columns]"
      ]
     },
     "execution_count": 31,
     "metadata": {},
     "output_type": "execute_result"
    }
   ],
   "source": [
    "from seaborn import scatterplot\n",
    "\n",
    "plot_data = lib_loan[[\"Max Loan Time\", \"Actual Loan Time\"]].dropna()\n",
    "plot_data[\"Cluster\"] = kmeans.labels_\n",
    "\n",
    "plot_data"
   ]
  },
  {
   "cell_type": "code",
   "execution_count": 32,
   "metadata": {
    "ExecuteTime": {
     "end_time": "2024-03-08T13:31:39.523708Z",
     "start_time": "2024-03-08T13:31:37.270361Z"
    },
    "slideshow": {
     "slide_type": "slide"
    }
   },
   "outputs": [
    {
     "data": {
      "text/plain": [
       "<Axes: xlabel='Max Loan Time', ylabel='Actual Loan Time'>"
      ]
     },
     "execution_count": 32,
     "metadata": {},
     "output_type": "execute_result"
    },
    {
     "data": {
      "image/png": "[encoded data removed]",
      "text/plain": [
       "<Figure size 640x480 with 1 Axes>"
      ]
     },
     "metadata": {},
     "output_type": "display_data"
    }
   ],
   "source": [
    "sns.scatterplot(data=plot_data, x=\"Max Loan Time\", y=\"Actual Loan Time\", hue=\"Cluster\")"
   ]
  },
  {
   "cell_type": "markdown",
   "metadata": {
    "slideshow": {
     "slide_type": "slide"
    }
   },
   "source": [
    "<div class=\"alert alert-block alert-warning\">\n",
    "<strong>Exercise:</strong>\n",
    "Build a clustering with 3 clusters as well as 5 clusters. Visualize the clusters. What are the differences in clusters built in the different approaches?</div>"
   ]
  },
  {
   "cell_type": "code",
   "execution_count": 33,
   "metadata": {
    "ExecuteTime": {
     "end_time": "2024-03-08T13:31:50.375992Z",
     "start_time": "2024-03-08T13:31:47.873533Z"
    },
    "slideshow": {
     "slide_type": "fragment"
    }
   },
   "outputs": [
    {
     "data": {
      "text/plain": [
       "<Axes: xlabel='Max Loan Time', ylabel='Actual Loan Time'>"
      ]
     },
     "execution_count": 33,
     "metadata": {},
     "output_type": "execute_result"
    },
    {
     "data": {
      "image/png": "[encoded data removed]",
      "text/plain": [
       "<Figure size 640x480 with 1 Axes>"
      ]
     },
     "metadata": {},
     "output_type": "display_data"
    }
   ],
   "source": [
    "n_cluster = 3\n",
    "kmeans = KMeans(n_clusters=n_cluster, random_state=1).fit(X)\n",
    "Counter(kmeans.labels_)\n",
    "plot_data = lib_loan[[\"Max Loan Time\", \"Actual Loan Time\"]].dropna()\n",
    "plot_data[\"Cluster\"] = kmeans.labels_\n",
    "\n",
    "sns.scatterplot(data=plot_data, x=\"Max Loan Time\", y=\"Actual Loan Time\", hue=\"Cluster\")"
   ]
  },
  {
   "cell_type": "markdown",
   "metadata": {
    "slideshow": {
     "slide_type": "slide"
    },
    "tags": []
   },
   "source": [
    "### Determining the number of clusters"
   ]
  },
  {
   "cell_type": "markdown",
   "metadata": {},
   "source": [
    "Determining the number of clusters is not a straightforward as it may seem. There are different ways of determining what a good number of clusters is. If we are in a true unsupervised scenario where we don't have the information what the \"correct\" cluster for an observation is, we have to rely on clustering-internal metrics. These metrics essentially quantify how similar observations within a cluster are, compared to observations in other cluster.\n",
    "\n",
    "Common examples of metrics that are used:\n",
    "- Within-sum-of-squares: calculated as the Euclidean distance from cluster observations to the cluster centroid, then averaged across clusters.\n",
    "- Silhouette Index\n",
    "- Davies-Bouldin Score\n",
    "\n",
    "Let's start with the Within-sum-of-squares (WSS), which is used in combination with the Elbow method as WSS tends to decrease with an increasing number of clusters. "
   ]
  },
  {
   "cell_type": "code",
   "execution_count": 34,
   "metadata": {
    "ExecuteTime": {
     "end_time": "2024-03-08T13:32:17.212951Z",
     "start_time": "2024-03-08T13:32:00.854976Z"
    },
    "slideshow": {
     "slide_type": "slide"
    }
   },
   "outputs": [],
   "source": [
    "sum_of_squares = []\n",
    "\n",
    "K = range(1,10)\n",
    "for k in K:\n",
    "    kmeans = KMeans(n_clusters=k, n_init=n_init, random_state=1).fit(X)\n",
    "    sum_of_squares.append(kmeans.inertia_)"
   ]
  },
  {
   "cell_type": "code",
   "execution_count": 35,
   "metadata": {
    "ExecuteTime": {
     "end_time": "2024-03-08T13:32:17.232550Z",
     "start_time": "2024-03-08T13:32:17.212473Z"
    },
    "slideshow": {
     "slide_type": "fragment"
    }
   },
   "outputs": [
    {
     "data": {
      "text/html": [
       "<div>\n",
       "<style scoped>\n",
       "    .dataframe tbody tr th:only-of-type {\n",
       "        vertical-align: middle;\n",
       "    }\n",
       "\n",
       "    .dataframe tbody tr th {\n",
       "        vertical-align: top;\n",
       "    }\n",
       "\n",
       "    .dataframe thead th {\n",
       "        text-align: right;\n",
       "    }\n",
       "</style>\n",
       "<table border=\"1\" class=\"dataframe\">\n",
       "  <thead>\n",
       "    <tr style=\"text-align: right;\">\n",
       "      <th></th>\n",
       "      <th>K</th>\n",
       "      <th>sum_of_squares</th>\n",
       "    </tr>\n",
       "  </thead>\n",
       "  <tbody>\n",
       "    <tr>\n",
       "      <th>0</th>\n",
       "      <td>1</td>\n",
       "      <td>8.924779e+09</td>\n",
       "    </tr>\n",
       "    <tr>\n",
       "      <th>1</th>\n",
       "      <td>2</td>\n",
       "      <td>8.734342e+08</td>\n",
       "    </tr>\n",
       "    <tr>\n",
       "      <th>2</th>\n",
       "      <td>3</td>\n",
       "      <td>4.548595e+08</td>\n",
       "    </tr>\n",
       "    <tr>\n",
       "      <th>3</th>\n",
       "      <td>4</td>\n",
       "      <td>3.004981e+08</td>\n",
       "    </tr>\n",
       "    <tr>\n",
       "      <th>4</th>\n",
       "      <td>5</td>\n",
       "      <td>2.161657e+08</td>\n",
       "    </tr>\n",
       "    <tr>\n",
       "      <th>5</th>\n",
       "      <td>6</td>\n",
       "      <td>1.681814e+08</td>\n",
       "    </tr>\n",
       "    <tr>\n",
       "      <th>6</th>\n",
       "      <td>7</td>\n",
       "      <td>1.362461e+08</td>\n",
       "    </tr>\n",
       "    <tr>\n",
       "      <th>7</th>\n",
       "      <td>8</td>\n",
       "      <td>1.163738e+08</td>\n",
       "    </tr>\n",
       "    <tr>\n",
       "      <th>8</th>\n",
       "      <td>9</td>\n",
       "      <td>9.783853e+07</td>\n",
       "    </tr>\n",
       "  </tbody>\n",
       "</table>\n",
       "</div>"
      ],
      "text/plain": [
       "   K  sum_of_squares\n",
       "0  1    8.924779e+09\n",
       "1  2    8.734342e+08\n",
       "2  3    4.548595e+08\n",
       "3  4    3.004981e+08\n",
       "4  5    2.161657e+08\n",
       "5  6    1.681814e+08\n",
       "6  7    1.362461e+08\n",
       "7  8    1.163738e+08\n",
       "8  9    9.783853e+07"
      ]
     },
     "execution_count": 35,
     "metadata": {},
     "output_type": "execute_result"
    }
   ],
   "source": [
    "sum_of_squares_frame = pd.DataFrame({\"K\":K, \"sum_of_squares\": sum_of_squares})\n",
    "sum_of_squares_frame"
   ]
  },
  {
   "cell_type": "code",
   "execution_count": 36,
   "metadata": {
    "ExecuteTime": {
     "end_time": "2024-03-08T13:32:17.889696Z",
     "start_time": "2024-03-08T13:32:17.223164Z"
    },
    "slideshow": {
     "slide_type": "slide"
    }
   },
   "outputs": [
    {
     "data": {
      "text/plain": [
       "<Axes: xlabel='K', ylabel='sum_of_squares'>"
      ]
     },
     "execution_count": 36,
     "metadata": {},
     "output_type": "execute_result"
    },
    {
     "data": {
      "image/png": "[encoded data removed]",
      "text/plain": [
       "<Figure size 640x480 with 1 Axes>"
      ]
     },
     "metadata": {},
     "output_type": "display_data"
    }
   ],
   "source": [
    "sns.lineplot(data=sum_of_squares_frame, x=\"K\", y=\"sum_of_squares\")"
   ]
  },
  {
   "cell_type": "markdown",
   "metadata": {
    "slideshow": {
     "slide_type": "fragment"
    }
   },
   "source": [
    "Here, 2 clusters seem to be a good number."
   ]
  },
  {
   "cell_type": "markdown",
   "metadata": {
    "slideshow": {
     "slide_type": "slide"
    }
   },
   "source": [
    "We can also investigate to what degree scaling makes a difference."
   ]
  },
  {
   "cell_type": "code",
   "execution_count": 37,
   "metadata": {
    "ExecuteTime": {
     "end_time": "2024-03-08T13:32:33.144130Z",
     "start_time": "2024-03-08T13:32:17.889161Z"
    },
    "slideshow": {
     "slide_type": "fragment"
    }
   },
   "outputs": [],
   "source": [
    "from sklearn.preprocessing import StandardScaler\n",
    "\n",
    "X_scaled = StandardScaler().fit_transform(X)\n",
    "\n",
    "sum_of_squares_scaled = []\n",
    "\n",
    "K = range(1,10)\n",
    "for k in K:\n",
    "    kmeans = KMeans(n_clusters=k, n_init=n_init).fit(X_scaled)\n",
    "    sum_of_squares_scaled.append(kmeans.inertia_)"
   ]
  },
  {
   "cell_type": "code",
   "execution_count": 38,
   "metadata": {
    "ExecuteTime": {
     "end_time": "2024-03-08T13:32:33.496934Z",
     "start_time": "2024-03-08T13:32:33.143434Z"
    },
    "slideshow": {
     "slide_type": "slide"
    }
   },
   "outputs": [
    {
     "data": {
      "text/plain": [
       "<Axes: xlabel='K', ylabel='sum_of_squares'>"
      ]
     },
     "execution_count": 38,
     "metadata": {},
     "output_type": "execute_result"
    },
    {
     "data": {
      "image/png": "[encoded data removed]",
      "text/plain": [
       "<Figure size 640x480 with 1 Axes>"
      ]
     },
     "metadata": {},
     "output_type": "display_data"
    }
   ],
   "source": [
    "sum_of_squares_scaled_frame = pd.DataFrame({\"K\":K, \"sum_of_squares\": sum_of_squares_scaled})\n",
    "sns.lineplot(data=sum_of_squares_scaled_frame, x=\"K\", y=\"sum_of_squares\")"
   ]
  },
  {
   "cell_type": "markdown",
   "metadata": {
    "slideshow": {
     "slide_type": "fragment"
    }
   },
   "source": [
    "Similar to before, 2 clusters seem to be appropriate.\n",
    "\n",
    "Let's look at the Davies-Bouldin score as alternative (note: the silhouette coefficient can be expensive to calculate, hence we use a simpler metric for this showcase):"
   ]
  },
  {
   "cell_type": "code",
   "execution_count": 39,
   "metadata": {
    "ExecuteTime": {
     "end_time": "2024-03-08T13:32:57.618873Z",
     "start_time": "2024-03-08T13:32:40.978268Z"
    },
    "slideshow": {
     "slide_type": "slide"
    }
   },
   "outputs": [
    {
     "name": "stdout",
     "output_type": "stream",
     "text": [
      "current number of clusters:  2\n",
      "calculating Davies-Bouldin score\n",
      "current number of clusters:  3\n",
      "calculating Davies-Bouldin score\n",
      "current number of clusters:  4\n",
      "calculating Davies-Bouldin score\n",
      "current number of clusters:  5\n",
      "calculating Davies-Bouldin score\n",
      "current number of clusters:  6\n",
      "calculating Davies-Bouldin score\n",
      "current number of clusters:  7\n",
      "calculating Davies-Bouldin score\n",
      "current number of clusters:  8\n",
      "calculating Davies-Bouldin score\n",
      "current number of clusters:  9\n",
      "calculating Davies-Bouldin score\n"
     ]
    }
   ],
   "source": [
    "from sklearn.metrics import davies_bouldin_score\n",
    "\n",
    "db_scores = []\n",
    "K = range(2,10)\n",
    "\n",
    "for k in K:\n",
    "    print(\"current number of clusters: \", k)\n",
    "    kmeans_preds = KMeans(n_clusters=k, n_init=n_init).fit_predict(X)\n",
    "    print(\"calculating Davies-Bouldin score\")\n",
    "    db_scores.append(davies_bouldin_score(X, kmeans_preds))"
   ]
  },
  {
   "cell_type": "code",
   "execution_count": 40,
   "metadata": {
    "ExecuteTime": {
     "end_time": "2024-03-08T13:33:05.895108Z",
     "start_time": "2024-03-08T13:33:05.861205Z"
    },
    "slideshow": {
     "slide_type": "fragment"
    }
   },
   "outputs": [
    {
     "data": {
      "text/plain": [
       "[0.2565083463724997,\n",
       " 0.42023676588601894,\n",
       " 0.5143440596699422,\n",
       " 0.6431429417758129,\n",
       " 0.5904632598606457,\n",
       " 0.6210619621319429,\n",
       " 0.6674193564641834,\n",
       " 0.596748087125357]"
      ]
     },
     "execution_count": 40,
     "metadata": {},
     "output_type": "execute_result"
    }
   ],
   "source": [
    "db_scores"
   ]
  },
  {
   "cell_type": "code",
   "execution_count": 41,
   "metadata": {
    "ExecuteTime": {
     "end_time": "2024-03-08T13:33:08.486114Z",
     "start_time": "2024-03-08T13:33:07.730620Z"
    },
    "slideshow": {
     "slide_type": "slide"
    }
   },
   "outputs": [
    {
     "data": {
      "text/plain": [
       "<Axes: xlabel='K', ylabel='Davies-Bouldin Score'>"
      ]
     },
     "execution_count": 41,
     "metadata": {},
     "output_type": "execute_result"
    },
    {
     "data": {
      "image/png": "[encoded data removed]",
      "text/plain": [
       "<Figure size 640x480 with 1 Axes>"
      ]
     },
     "metadata": {},
     "output_type": "display_data"
    }
   ],
   "source": [
    "db_scores_frame = pd.DataFrame({\"K\":K, \"Davies-Bouldin Score\": db_scores})\n",
    "sns.lineplot(data=db_scores_frame, x=\"K\", y=\"Davies-Bouldin Score\")"
   ]
  },
  {
   "cell_type": "markdown",
   "metadata": {
    "slideshow": {
     "slide_type": "fragment"
    }
   },
   "source": [
    "As we select the minimum DB-score, we would again go with 2 clusters.\n",
    "\n",
    "Finally, let's visualize these two clusters."
   ]
  },
  {
   "cell_type": "code",
   "execution_count": 42,
   "metadata": {
    "ExecuteTime": {
     "end_time": "2024-03-08T13:33:24.636783Z",
     "start_time": "2024-03-08T13:33:21.716328Z"
    },
    "slideshow": {
     "slide_type": "slide"
    }
   },
   "outputs": [
    {
     "data": {
      "text/plain": [
       "<Axes: xlabel='Max Loan Time', ylabel='Actual Loan Time'>"
      ]
     },
     "execution_count": 42,
     "metadata": {},
     "output_type": "execute_result"
    },
    {
     "data": {
      "image/png": "[encoded data removed]",
      "text/plain": [
       "<Figure size 640x480 with 1 Axes>"
      ]
     },
     "metadata": {},
     "output_type": "display_data"
    }
   ],
   "source": [
    "#re-build the clustering with two clusters\n",
    "kmeans = KMeans(n_clusters=2, n_init=n_init, random_state=1).fit(X)\n",
    "\n",
    "plot_data = lib_loan[[\"Max Loan Time\", \"Actual Loan Time\"]].dropna()\n",
    "plot_data[\"Cluster\"] = kmeans.labels_\n",
    "\n",
    "sns.scatterplot(data=plot_data, x=\"Max Loan Time\", y=\"Actual Loan Time\", hue=\"Cluster\")"
   ]
  },
  {
   "cell_type": "markdown",
   "metadata": {
    "slideshow": {
     "slide_type": "slide"
    },
    "tags": []
   },
   "source": [
    "### Investigating Cluster Properties"
   ]
  },
  {
   "cell_type": "markdown",
   "metadata": {},
   "source": [
    "Once we determine the number of clusters we want to use and which observation belongs to what cluster, we can start investigating the differences between clusters. "
   ]
  },
  {
   "cell_type": "code",
   "execution_count": 43,
   "metadata": {
    "ExecuteTime": {
     "end_time": "2024-03-08T13:33:24.642354Z",
     "start_time": "2024-03-08T13:33:24.636075Z"
    },
    "slideshow": {
     "slide_type": "fragment"
    }
   },
   "outputs": [],
   "source": [
    "lib_loan_no_na[\"Cluster\"] = kmeans.labels_\n"
   ]
  },
  {
   "cell_type": "code",
   "execution_count": 44,
   "metadata": {
    "ExecuteTime": {
     "end_time": "2024-03-08T13:33:25.341359Z",
     "start_time": "2024-03-08T13:33:24.636455Z"
    },
    "slideshow": {
     "slide_type": "fragment"
    }
   },
   "outputs": [
    {
     "data": {
      "text/plain": [
       "<Axes: xlabel='count', ylabel='Library Name'>"
      ]
     },
     "execution_count": 44,
     "metadata": {},
     "output_type": "execute_result"
    },
    {
     "data": {
      "image/png": "[encoded data removed]",
      "text/plain": [
       "<Figure size 640x480 with 1 Axes>"
      ]
     },
     "metadata": {},
     "output_type": "display_data"
    }
   ],
   "source": [
    "sns.countplot(y=\"Library Name\", hue=\"Cluster\", data=lib_loan_no_na)"
   ]
  },
  {
   "cell_type": "markdown",
   "metadata": {
    "slideshow": {
     "slide_type": "fragment"
    }
   },
   "source": [
    "Here, we see that the second cluster only has books from the Central Library LC. We also see that the second cluster is much smaller than the first one, so the vast majority of books lent by the library fall in the first cluster. "
   ]
  },
  {
   "cell_type": "markdown",
   "metadata": {
    "slideshow": {
     "slide_type": "slide"
    }
   },
   "source": [
    "<div class=\"alert alert-block alert-warning\">\n",
    "<strong>Exercise:</strong>\n",
    "Using Days Late and Max Loan Time as variables, create a different clustering solution. Try different numbers of clusters, select a good number of clusters via the DB-score method, and calculate how many observations fall in the clusters.\n",
    "</div>"
   ]
  },
  {
   "cell_type": "code",
   "execution_count": 45,
   "metadata": {
    "ExecuteTime": {
     "end_time": "2024-03-08T13:33:28.055592Z",
     "start_time": "2024-03-08T13:33:25.340808Z"
    },
    "slideshow": {
     "slide_type": "fragment"
    }
   },
   "outputs": [
    {
     "data": {
      "image/png": "[encoded data removed]",
      "text/plain": [
       "<Figure size 640x480 with 1 Axes>"
      ]
     },
     "metadata": {},
     "output_type": "display_data"
    },
    {
     "name": "stdout",
     "output_type": "stream",
     "text": [
      "Optimal number of clusters (without standardization): 2\n"
     ]
    }
   ],
   "source": [
    "import pandas as pd\n",
    "import numpy as np\n",
    "from sklearn.cluster import KMeans\n",
    "from sklearn.metrics import davies_bouldin_score\n",
    "from sklearn.preprocessing import StandardScaler\n",
    "import matplotlib.pyplot as plt\n",
    "import seaborn as sns\n",
    "\n",
    "# Handling missing values for 'Days Late' and 'Max Loan Time'\n",
    "lib_loan = lib_loan.dropna(subset=['Days Late', 'Max Loan Time'])\n",
    "\n",
    "# Initial Clustering without Standardization\n",
    "X = lib_loan[['Days Late', 'Max Loan Time']].values\n",
    "\n",
    "# Try clustering with a range of cluster numbers and calculate DB scores\n",
    "db_scores = []\n",
    "for k in range(2, 10):\n",
    "    kmeans = KMeans(n_clusters=k, random_state=42).fit(X)\n",
    "    preds = kmeans.predict(X)\n",
    "    db_score = davies_bouldin_score(X, preds)\n",
    "    db_scores.append(db_score)\n",
    "\n",
    "# Plotting DB Scores to find the optimal number of clusters\n",
    "plt.plot(range(2, 10), db_scores, marker='o')\n",
    "plt.title('Davies-Bouldin Scores vs. Number of Clusters')\n",
    "plt.xlabel('Number of Clusters')\n",
    "plt.ylabel('DB Score')\n",
    "plt.show()\n",
    "\n",
    "# Selecting the number of clusters with the lowest DB Score\n",
    "optimal_clusters = np.argmin(db_scores) + 2  # Adding 2 because our range starts from 2\n",
    "\n",
    "print(f'Optimal number of clusters (without standardization): {optimal_clusters}')"
   ]
  },
  {
   "cell_type": "code",
   "execution_count": 46,
   "metadata": {
    "ExecuteTime": {
     "end_time": "2024-03-08T13:36:40.148713Z",
     "start_time": "2024-03-08T13:36:36.456791Z"
    },
    "collapsed": false,
    "jupyter": {
     "outputs_hidden": false
    }
   },
   "outputs": [
    {
     "data": {
      "image/png": "[encoded data removed]",
      "text/plain": [
       "<Figure size 640x480 with 1 Axes>"
      ]
     },
     "metadata": {},
     "output_type": "display_data"
    },
    {
     "data": {
      "image/png": "[encoded data removed]",
      "text/plain": [
       "<Figure size 1000x800 with 1 Axes>"
      ]
     },
     "metadata": {},
     "output_type": "display_data"
    }
   ],
   "source": [
    "## PLOT THE CLUSTER DISTRIBUTION ##\n",
    "\n",
    "#re-build the clustering with two clusters\n",
    "kmeans = KMeans(n_clusters=2, random_state=42).fit(X)\n",
    "\n",
    "plot_data = lib_loan[[\"Days Late\", \"Max Loan Time\"]].dropna()\n",
    "\n",
    "plot_data[\"Cluster\"] = kmeans.labels_\n",
    "lib_loan[\"Cluster\"] = kmeans.labels_\n",
    "\n",
    "#re-build the clustering with two clusters\n",
    "kmeans = KMeans(n_clusters=2, n_init=n_init, random_state=1).fit(X)\n",
    "\n",
    "#plot the two variables with the respective clusters\n",
    "sns.scatterplot(data=plot_data, x=\"Days Late\", y=\"Max Loan Time\", hue=\"Cluster\")\n",
    "\n",
    "## PLOT THE CLUSTER ##\n",
    "\n",
    "plt.figure(figsize=(10, 8))\n",
    "\n",
    "ax = sns.countplot(y=\"Library Name\", hue=\"Cluster\", data=lib_loan)\n",
    "\n",
    "# Set larger font size and rotation for y-axis labels\n",
    "plt.setp(ax.get_yticklabels(), fontsize=12, rotation=0, ha=\"right\", weight=\"bold\")\n",
    "\n",
    "# Adjust the spacing\n",
    "plt.subplots_adjust(left=0.3)\n",
    "\n",
    "# Show the plot\n",
    "plt.show()"
   ]
  },
  {
   "cell_type": "code",
   "execution_count": 47,
   "metadata": {
    "ExecuteTime": {
     "end_time": "2024-03-08T13:36:14.004689Z",
     "start_time": "2024-03-08T13:36:13.818105Z"
    },
    "collapsed": false,
    "jupyter": {
     "outputs_hidden": false
    }
   },
   "outputs": [
    {
     "data": {
      "text/html": [
       "<div>\n",
       "<style scoped>\n",
       "    .dataframe tbody tr th:only-of-type {\n",
       "        vertical-align: middle;\n",
       "    }\n",
       "\n",
       "    .dataframe tbody tr th {\n",
       "        vertical-align: top;\n",
       "    }\n",
       "\n",
       "    .dataframe thead th {\n",
       "        text-align: right;\n",
       "    }\n",
       "</style>\n",
       "<table border=\"1\" class=\"dataframe\">\n",
       "  <thead>\n",
       "    <tr style=\"text-align: right;\">\n",
       "      <th></th>\n",
       "      <th>Title</th>\n",
       "      <th>ISBN</th>\n",
       "      <th>Publisher</th>\n",
       "      <th>Author</th>\n",
       "      <th>Author (contributor)</th>\n",
       "      <th>Publication Place</th>\n",
       "      <th>Subjects</th>\n",
       "      <th>Loan Date</th>\n",
       "      <th>Due Date</th>\n",
       "      <th>Return Date</th>\n",
       "      <th>...</th>\n",
       "      <th>Library Name</th>\n",
       "      <th>Location Name</th>\n",
       "      <th>User Group</th>\n",
       "      <th>Max Loan Time</th>\n",
       "      <th>Actual Loan Time</th>\n",
       "      <th>Late Return</th>\n",
       "      <th>Days Late</th>\n",
       "      <th>Max Loan Time Scaled</th>\n",
       "      <th>Actual Loan Time Scaled_min_max</th>\n",
       "      <th>Cluster</th>\n",
       "    </tr>\n",
       "  </thead>\n",
       "  <tbody>\n",
       "    <tr>\n",
       "      <th>0</th>\n",
       "      <td>Legal discourse across cultures and systems</td>\n",
       "      <td>9789622098527; 9622098525; 9789622098510; 9622...</td>\n",
       "      <td>Hong Kong Univ Press</td>\n",
       "      <td>NaN</td>\n",
       "      <td>Bhatia, V. K. 1942-</td>\n",
       "      <td>Hong Kong</td>\n",
       "      <td>NaN</td>\n",
       "      <td>2019-05-07</td>\n",
       "      <td>2019-09-24</td>\n",
       "      <td>2019-09-09</td>\n",
       "      <td>...</td>\n",
       "      <td>Central Library LC Textbook Collection</td>\n",
       "      <td>NaN</td>\n",
       "      <td>Campuslieferdienst</td>\n",
       "      <td>140</td>\n",
       "      <td>125.0</td>\n",
       "      <td>0</td>\n",
       "      <td>0.0</td>\n",
       "      <td>-0.202945</td>\n",
       "      <td>0.032697</td>\n",
       "      <td>0</td>\n",
       "    </tr>\n",
       "    <tr>\n",
       "      <th>1</th>\n",
       "      <td>Erbschaftssteuern und Doppelbesteuerungsabkommen</td>\n",
       "      <td>3707303136; 9783707303131</td>\n",
       "      <td>Linde</td>\n",
       "      <td>NaN</td>\n",
       "      <td>Aigner, Dietmar Johannes 1973-</td>\n",
       "      <td>Wien</td>\n",
       "      <td>Oesterreich; Doppelbesteuerungsabkommen; Erbsc...</td>\n",
       "      <td>2020-02-20</td>\n",
       "      <td>2020-08-07</td>\n",
       "      <td>2020-07-15</td>\n",
       "      <td>...</td>\n",
       "      <td>Central Library LC</td>\n",
       "      <td>Level -2 Books</td>\n",
       "      <td>Campuslieferdienst</td>\n",
       "      <td>169</td>\n",
       "      <td>146.0</td>\n",
       "      <td>0</td>\n",
       "      <td>0.0</td>\n",
       "      <td>-0.177926</td>\n",
       "      <td>0.038190</td>\n",
       "      <td>0</td>\n",
       "    </tr>\n",
       "    <tr>\n",
       "      <th>2</th>\n",
       "      <td>The Routledge companion to digital consumption</td>\n",
       "      <td>0415679923; 9780415679923; 9780203105306; 0203...</td>\n",
       "      <td>Routledge</td>\n",
       "      <td>NaN</td>\n",
       "      <td>Belk, Russell W. 1945-</td>\n",
       "      <td>London [u.a.]</td>\n",
       "      <td>Informationstechnik; Verbraucherverhalten; Inf...</td>\n",
       "      <td>2019-06-05</td>\n",
       "      <td>2019-11-15</td>\n",
       "      <td>2019-10-18</td>\n",
       "      <td>...</td>\n",
       "      <td>Central Library LC</td>\n",
       "      <td>Level 5</td>\n",
       "      <td>WU-StudentIn inkl CLD</td>\n",
       "      <td>163</td>\n",
       "      <td>135.0</td>\n",
       "      <td>0</td>\n",
       "      <td>0.0</td>\n",
       "      <td>-0.183103</td>\n",
       "      <td>0.035313</td>\n",
       "      <td>0</td>\n",
       "    </tr>\n",
       "    <tr>\n",
       "      <th>3</th>\n",
       "      <td>Eigentumsvorbehalt und Sicherungsuebertragung ...</td>\n",
       "      <td>3800569116; 9783800569113</td>\n",
       "      <td>Verl Recht u Wirtschaft</td>\n",
       "      <td>NaN</td>\n",
       "      <td>Fichna, Gudrun [Bearb.]; Stumpf, Herbert</td>\n",
       "      <td>Heidelberg</td>\n",
       "      <td>Conditional sales--Automatisch aus GBV_2011-10...</td>\n",
       "      <td>2019-08-05</td>\n",
       "      <td>2019-08-05</td>\n",
       "      <td>2019-08-05</td>\n",
       "      <td>...</td>\n",
       "      <td>D3 Law</td>\n",
       "      <td>Books</td>\n",
       "      <td>NaN</td>\n",
       "      <td>0</td>\n",
       "      <td>0.0</td>\n",
       "      <td>0</td>\n",
       "      <td>0.0</td>\n",
       "      <td>-0.323726</td>\n",
       "      <td>0.000000</td>\n",
       "      <td>0</td>\n",
       "    </tr>\n",
       "    <tr>\n",
       "      <th>4</th>\n",
       "      <td>Verfassungsrecht</td>\n",
       "      <td>9783700765936; 3700765932</td>\n",
       "      <td>LexisNexis</td>\n",
       "      <td>Oesterreich</td>\n",
       "      <td>LexisNexis Verlag; Lanner, Christoph</td>\n",
       "      <td>Wien</td>\n",
       "      <td>Quelle; Oesterreich; Verfassungsrecht; Oesterr...</td>\n",
       "      <td>2018-10-03</td>\n",
       "      <td>2018-10-17</td>\n",
       "      <td>2018-10-16</td>\n",
       "      <td>...</td>\n",
       "      <td>Central Library LC</td>\n",
       "      <td>Level 6</td>\n",
       "      <td>WU-StudentIn</td>\n",
       "      <td>14</td>\n",
       "      <td>13.0</td>\n",
       "      <td>0</td>\n",
       "      <td>0.0</td>\n",
       "      <td>-0.311648</td>\n",
       "      <td>0.003400</td>\n",
       "      <td>0</td>\n",
       "    </tr>\n",
       "    <tr>\n",
       "      <th>...</th>\n",
       "      <td>...</td>\n",
       "      <td>...</td>\n",
       "      <td>...</td>\n",
       "      <td>...</td>\n",
       "      <td>...</td>\n",
       "      <td>...</td>\n",
       "      <td>...</td>\n",
       "      <td>...</td>\n",
       "      <td>...</td>\n",
       "      <td>...</td>\n",
       "      <td>...</td>\n",
       "      <td>...</td>\n",
       "      <td>...</td>\n",
       "      <td>...</td>\n",
       "      <td>...</td>\n",
       "      <td>...</td>\n",
       "      <td>...</td>\n",
       "      <td>...</td>\n",
       "      <td>...</td>\n",
       "      <td>...</td>\n",
       "      <td>...</td>\n",
       "    </tr>\n",
       "    <tr>\n",
       "      <th>19995</th>\n",
       "      <td>Klaus Vogel on double taxation conventions</td>\n",
       "      <td>9789041160553; 9041160558</td>\n",
       "      <td>Wolters Kluwer Law &amp; Business</td>\n",
       "      <td>NaN</td>\n",
       "      <td>Becker, Johannes; Rust, Alexander 1973-; Reime...</td>\n",
       "      <td>London [u.a.]</td>\n",
       "      <td>NaN</td>\n",
       "      <td>2019-04-26</td>\n",
       "      <td>2019-04-26</td>\n",
       "      <td>2019-04-26</td>\n",
       "      <td>...</td>\n",
       "      <td>D3 Tax Law</td>\n",
       "      <td>Books</td>\n",
       "      <td>NaN</td>\n",
       "      <td>0</td>\n",
       "      <td>0.0</td>\n",
       "      <td>0</td>\n",
       "      <td>0.0</td>\n",
       "      <td>-0.323726</td>\n",
       "      <td>0.000000</td>\n",
       "      <td>0</td>\n",
       "    </tr>\n",
       "    <tr>\n",
       "      <th>19996</th>\n",
       "      <td>Wege aus der Krise Ideen und Konzepte fuer morgen</td>\n",
       "      <td>9783643504661; 3643504667</td>\n",
       "      <td>Lit-Verl</td>\n",
       "      <td>NaN</td>\n",
       "      <td>Bierdel, Elias 1960-</td>\n",
       "      <td>Wien [u.a.]</td>\n",
       "      <td>Wirtschaftskrise; Alternative Wirtschaftspolit...</td>\n",
       "      <td>2018-02-17</td>\n",
       "      <td>2018-04-03</td>\n",
       "      <td>2018-04-04</td>\n",
       "      <td>...</td>\n",
       "      <td>Central Library LC</td>\n",
       "      <td>Level 6</td>\n",
       "      <td>Fachhochschule</td>\n",
       "      <td>45</td>\n",
       "      <td>46.0</td>\n",
       "      <td>1</td>\n",
       "      <td>1.0</td>\n",
       "      <td>-0.284903</td>\n",
       "      <td>0.012032</td>\n",
       "      <td>0</td>\n",
       "    </tr>\n",
       "    <tr>\n",
       "      <th>19997</th>\n",
       "      <td>Research methods for business students</td>\n",
       "      <td>9781292016627; 1292016620</td>\n",
       "      <td>Pearson</td>\n",
       "      <td>Saunders, Mark 1959-</td>\n",
       "      <td>Thornhill, Adrian; Lewis, Philip 1945-</td>\n",
       "      <td>Harlow, England London New York</td>\n",
       "      <td>Betriebswirtschaftslehre; Forschungsmethode; W...</td>\n",
       "      <td>2019-06-28</td>\n",
       "      <td>2019-11-12</td>\n",
       "      <td>2019-11-04</td>\n",
       "      <td>...</td>\n",
       "      <td>Central Library LC</td>\n",
       "      <td>Level 5</td>\n",
       "      <td>Campuslieferdienst</td>\n",
       "      <td>137</td>\n",
       "      <td>129.0</td>\n",
       "      <td>0</td>\n",
       "      <td>0.0</td>\n",
       "      <td>-0.205533</td>\n",
       "      <td>0.033743</td>\n",
       "      <td>0</td>\n",
       "    </tr>\n",
       "    <tr>\n",
       "      <th>19998</th>\n",
       "      <td>Psychologie der Mitarbeiterfuehrung Wirtschaft...</td>\n",
       "      <td>365807275X; 9783658072759; 9783658072766; 3658...</td>\n",
       "      <td>Springer</td>\n",
       "      <td>Becker, Florian 1977-</td>\n",
       "      <td>NaN</td>\n",
       "      <td>Wiesbaden</td>\n",
       "      <td>Mitarbeiterfuehrung; Personal; Personalfuehrun...</td>\n",
       "      <td>2019-01-22</td>\n",
       "      <td>2019-03-25</td>\n",
       "      <td>2019-03-14</td>\n",
       "      <td>...</td>\n",
       "      <td>Central Library LC</td>\n",
       "      <td>Level 6</td>\n",
       "      <td>Fachhochschule</td>\n",
       "      <td>62</td>\n",
       "      <td>51.0</td>\n",
       "      <td>0</td>\n",
       "      <td>0.0</td>\n",
       "      <td>-0.270237</td>\n",
       "      <td>0.013340</td>\n",
       "      <td>0</td>\n",
       "    </tr>\n",
       "    <tr>\n",
       "      <th>19999</th>\n",
       "      <td>Reading images the grammar of visual design</td>\n",
       "      <td>9780415319140; 0415319145; 9780415319157; 0415...</td>\n",
       "      <td>Routledge</td>\n",
       "      <td>Kress, Gunther R. 1940-</td>\n",
       "      <td>Leeuwen, Theo &lt;&lt;van&gt;&gt; 1947-</td>\n",
       "      <td>London [u.a.]</td>\n",
       "      <td>Visuelle Kommunikation; Design; Bild; Semiotik</td>\n",
       "      <td>2019-10-16</td>\n",
       "      <td>2019-10-16</td>\n",
       "      <td>2019-10-16</td>\n",
       "      <td>...</td>\n",
       "      <td>Central Library LC Textbook Collection</td>\n",
       "      <td>NaN</td>\n",
       "      <td>NaN</td>\n",
       "      <td>0</td>\n",
       "      <td>0.0</td>\n",
       "      <td>0</td>\n",
       "      <td>0.0</td>\n",
       "      <td>-0.323726</td>\n",
       "      <td>0.000000</td>\n",
       "      <td>0</td>\n",
       "    </tr>\n",
       "  </tbody>\n",
       "</table>\n",
       "<p>20000 rows × 22 columns</p>\n",
       "</div>"
      ],
      "text/plain": [
       "                                                   Title  \\\n",
       "0            Legal discourse across cultures and systems   \n",
       "1       Erbschaftssteuern und Doppelbesteuerungsabkommen   \n",
       "2         The Routledge companion to digital consumption   \n",
       "3      Eigentumsvorbehalt und Sicherungsuebertragung ...   \n",
       "4                                       Verfassungsrecht   \n",
       "...                                                  ...   \n",
       "19995         Klaus Vogel on double taxation conventions   \n",
       "19996  Wege aus der Krise Ideen und Konzepte fuer morgen   \n",
       "19997             Research methods for business students   \n",
       "19998  Psychologie der Mitarbeiterfuehrung Wirtschaft...   \n",
       "19999        Reading images the grammar of visual design   \n",
       "\n",
       "                                                    ISBN  \\\n",
       "0      9789622098527; 9622098525; 9789622098510; 9622...   \n",
       "1                              3707303136; 9783707303131   \n",
       "2      0415679923; 9780415679923; 9780203105306; 0203...   \n",
       "3                              3800569116; 9783800569113   \n",
       "4                              9783700765936; 3700765932   \n",
       "...                                                  ...   \n",
       "19995                          9789041160553; 9041160558   \n",
       "19996                          9783643504661; 3643504667   \n",
       "19997                          9781292016627; 1292016620   \n",
       "19998  365807275X; 9783658072759; 9783658072766; 3658...   \n",
       "19999  9780415319140; 0415319145; 9780415319157; 0415...   \n",
       "\n",
       "                           Publisher                   Author  \\\n",
       "0               Hong Kong Univ Press                      NaN   \n",
       "1                              Linde                      NaN   \n",
       "2                          Routledge                      NaN   \n",
       "3            Verl Recht u Wirtschaft                      NaN   \n",
       "4                         LexisNexis              Oesterreich   \n",
       "...                              ...                      ...   \n",
       "19995  Wolters Kluwer Law & Business                      NaN   \n",
       "19996                       Lit-Verl                      NaN   \n",
       "19997                        Pearson     Saunders, Mark 1959-   \n",
       "19998                       Springer    Becker, Florian 1977-   \n",
       "19999                      Routledge  Kress, Gunther R. 1940-   \n",
       "\n",
       "                                    Author (contributor)  \\\n",
       "0                                    Bhatia, V. K. 1942-   \n",
       "1                         Aigner, Dietmar Johannes 1973-   \n",
       "2                                 Belk, Russell W. 1945-   \n",
       "3               Fichna, Gudrun [Bearb.]; Stumpf, Herbert   \n",
       "4                   LexisNexis Verlag; Lanner, Christoph   \n",
       "...                                                  ...   \n",
       "19995  Becker, Johannes; Rust, Alexander 1973-; Reime...   \n",
       "19996                               Bierdel, Elias 1960-   \n",
       "19997             Thornhill, Adrian; Lewis, Philip 1945-   \n",
       "19998                                                NaN   \n",
       "19999                        Leeuwen, Theo <<van>> 1947-   \n",
       "\n",
       "                     Publication Place  \\\n",
       "0                            Hong Kong   \n",
       "1                                 Wien   \n",
       "2                        London [u.a.]   \n",
       "3                           Heidelberg   \n",
       "4                                 Wien   \n",
       "...                                ...   \n",
       "19995                    London [u.a.]   \n",
       "19996                      Wien [u.a.]   \n",
       "19997  Harlow, England London New York   \n",
       "19998                        Wiesbaden   \n",
       "19999                    London [u.a.]   \n",
       "\n",
       "                                                Subjects  Loan Date  \\\n",
       "0                                                    NaN 2019-05-07   \n",
       "1      Oesterreich; Doppelbesteuerungsabkommen; Erbsc... 2020-02-20   \n",
       "2      Informationstechnik; Verbraucherverhalten; Inf... 2019-06-05   \n",
       "3      Conditional sales--Automatisch aus GBV_2011-10... 2019-08-05   \n",
       "4      Quelle; Oesterreich; Verfassungsrecht; Oesterr... 2018-10-03   \n",
       "...                                                  ...        ...   \n",
       "19995                                                NaN 2019-04-26   \n",
       "19996  Wirtschaftskrise; Alternative Wirtschaftspolit... 2018-02-17   \n",
       "19997  Betriebswirtschaftslehre; Forschungsmethode; W... 2019-06-28   \n",
       "19998  Mitarbeiterfuehrung; Personal; Personalfuehrun... 2019-01-22   \n",
       "19999     Visuelle Kommunikation; Design; Bild; Semiotik 2019-10-16   \n",
       "\n",
       "        Due Date Return Date  ...                            Library Name  \\\n",
       "0     2019-09-24  2019-09-09  ...  Central Library LC Textbook Collection   \n",
       "1     2020-08-07  2020-07-15  ...                      Central Library LC   \n",
       "2     2019-11-15  2019-10-18  ...                      Central Library LC   \n",
       "3     2019-08-05  2019-08-05  ...                                  D3 Law   \n",
       "4     2018-10-17  2018-10-16  ...                      Central Library LC   \n",
       "...          ...         ...  ...                                     ...   \n",
       "19995 2019-04-26  2019-04-26  ...                              D3 Tax Law   \n",
       "19996 2018-04-03  2018-04-04  ...                      Central Library LC   \n",
       "19997 2019-11-12  2019-11-04  ...                      Central Library LC   \n",
       "19998 2019-03-25  2019-03-14  ...                      Central Library LC   \n",
       "19999 2019-10-16  2019-10-16  ...  Central Library LC Textbook Collection   \n",
       "\n",
       "        Location Name             User Group Max Loan Time Actual Loan Time  \\\n",
       "0                 NaN     Campuslieferdienst           140            125.0   \n",
       "1      Level -2 Books     Campuslieferdienst           169            146.0   \n",
       "2             Level 5  WU-StudentIn inkl CLD           163            135.0   \n",
       "3               Books                    NaN             0              0.0   \n",
       "4             Level 6           WU-StudentIn            14             13.0   \n",
       "...               ...                    ...           ...              ...   \n",
       "19995           Books                    NaN             0              0.0   \n",
       "19996         Level 6         Fachhochschule            45             46.0   \n",
       "19997         Level 5     Campuslieferdienst           137            129.0   \n",
       "19998         Level 6         Fachhochschule            62             51.0   \n",
       "19999             NaN                    NaN             0              0.0   \n",
       "\n",
       "       Late Return  Days Late  Max Loan Time Scaled  \\\n",
       "0                0        0.0             -0.202945   \n",
       "1                0        0.0             -0.177926   \n",
       "2                0        0.0             -0.183103   \n",
       "3                0        0.0             -0.323726   \n",
       "4                0        0.0             -0.311648   \n",
       "...            ...        ...                   ...   \n",
       "19995            0        0.0             -0.323726   \n",
       "19996            1        1.0             -0.284903   \n",
       "19997            0        0.0             -0.205533   \n",
       "19998            0        0.0             -0.270237   \n",
       "19999            0        0.0             -0.323726   \n",
       "\n",
       "       Actual Loan Time Scaled_min_max  Cluster  \n",
       "0                             0.032697        0  \n",
       "1                             0.038190        0  \n",
       "2                             0.035313        0  \n",
       "3                             0.000000        0  \n",
       "4                             0.003400        0  \n",
       "...                                ...      ...  \n",
       "19995                         0.000000        0  \n",
       "19996                         0.012032        0  \n",
       "19997                         0.033743        0  \n",
       "19998                         0.013340        0  \n",
       "19999                         0.000000        0  \n",
       "\n",
       "[20000 rows x 22 columns]"
      ]
     },
     "execution_count": 47,
     "metadata": {},
     "output_type": "execute_result"
    }
   ],
   "source": [
    "lib_loan"
   ]
  },
  {
   "cell_type": "markdown",
   "metadata": {
    "slideshow": {
     "slide_type": "slide"
    }
   },
   "source": [
    "<div class=\"alert alert-block alert-warning\">\n",
    "<strong>Exercise:</strong>\n",
    "Now, standardize the variables first. I.e., following the Feature Transformation step from earlier, use a StandardScaler() to transform the variables into having a mean of 0 and standard deviation of 1. Re-create the previous clustering approach using the Days Late and Max Loan Time variables.\n",
    "    <ul>\n",
    "        <li>How many clusters would you select?</li>\n",
    "        <li>How do the clusters differ from the ones that we calculated initially on the original / untransformed variables?</li>\n",
    "    </ul>\n",
    "</div>"
   ]
  },
  {
   "cell_type": "code",
   "execution_count": 48,
   "metadata": {
    "ExecuteTime": {
     "end_time": "2024-03-08T13:34:50.793219Z",
     "start_time": "2024-03-08T13:34:48.138775Z"
    },
    "slideshow": {
     "slide_type": "fragment"
    }
   },
   "outputs": [
    {
     "data": {
      "image/png": "[encoded data removed]",
      "text/plain": [
       "<Figure size 640x480 with 1 Axes>"
      ]
     },
     "metadata": {},
     "output_type": "display_data"
    },
    {
     "name": "stdout",
     "output_type": "stream",
     "text": [
      "Optimal number of clusters (with standardization): 3\n"
     ]
    }
   ],
   "source": [
    "# Repeating the process with standardized data\n",
    "scaler = StandardScaler()\n",
    "X_scaled = scaler.fit_transform(X)\n",
    "\n",
    "# Repeating the DB score calculation for standardized data\n",
    "db_scores_scaled = []\n",
    "for k in range(2, 10):\n",
    "    kmeans_scaled = KMeans(n_clusters=k, random_state=42).fit(X_scaled)\n",
    "    preds_scaled = kmeans_scaled.predict(X_scaled)\n",
    "    db_score_scaled = davies_bouldin_score(X_scaled, preds_scaled)\n",
    "    db_scores_scaled.append(db_score_scaled)\n",
    "\n",
    "# Plotting DB Scores for the scaled data\n",
    "plt.plot(range(2, 10), db_scores_scaled, marker='o', color='red')\n",
    "plt.title('Davies-Bouldin Scores vs. Number of Clusters (Scaled Data)')\n",
    "plt.xlabel('Number of Clusters')\n",
    "plt.ylabel('DB Score (Scaled Data)')\n",
    "plt.show()\n",
    "\n",
    "# Selecting the number of clusters with the lowest DB Score for scaled data\n",
    "optimal_clusters_scaled = np.argmin(db_scores_scaled) + 2\n",
    "\n",
    "print(f'Optimal number of clusters (with standardization): {optimal_clusters_scaled}')"
   ]
  },
  {
   "cell_type": "code",
   "execution_count": 49,
   "metadata": {
    "ExecuteTime": {
     "end_time": "2024-03-08T13:36:54.923851Z",
     "start_time": "2024-03-08T13:36:52.710927Z"
    },
    "collapsed": false,
    "jupyter": {
     "outputs_hidden": false
    }
   },
   "outputs": [
    {
     "data": {
      "image/png": "[encoded data removed]",
      "text/plain": [
       "<Figure size 640x480 with 1 Axes>"
      ]
     },
     "metadata": {},
     "output_type": "display_data"
    },
    {
     "data": {
      "image/png": "[encoded data removed]",
      "text/plain": [
       "<Figure size 1000x800 with 1 Axes>"
      ]
     },
     "metadata": {},
     "output_type": "display_data"
    }
   ],
   "source": [
    "#re-build the clustering with two clusters\n",
    "kmeans = KMeans(n_clusters=3, random_state=42).fit(X)\n",
    "\n",
    "plot_data = lib_loan[[\"Days Late\", \"Max Loan Time\"]].dropna()\n",
    "plot_data[\"Days Late Scaled\"] = standard_scaler.fit_transform(plot_data[[\"Days Late\"]])\n",
    "plot_data[\"Max Loan Time Scaled\"] = standard_scaler.fit_transform(plot_data[[\"Max Loan Time\"]])\n",
    "plot_data[\"Cluster\"] = kmeans.labels_\n",
    "lib_loan[\"Cluster\"] = kmeans.labels_\n",
    "\n",
    "#plot the two standard-scaled variables with the respective clusters\n",
    "sns.scatterplot(data=plot_data, x=\"Days Late Scaled\", y=\"Max Loan Time Scaled\", hue=\"Cluster\")\n",
    "\n",
    "# Set the figure size\n",
    "plt.figure(figsize=(10, 8))\n",
    "\n",
    "ax = sns.countplot(y=\"Library Name\", hue=\"Cluster\", data=lib_loan)\n",
    "\n",
    "# Set larger font size and rotation for y-axis labels\n",
    "plt.setp(ax.get_yticklabels(), fontsize=12, rotation=0, ha=\"right\", weight=\"bold\")\n",
    "\n",
    "# Adjust the spacing\n",
    "plt.subplots_adjust(left=0.3)\n",
    "\n",
    "# Show the plot\n",
    "plt.show()"
   ]
  },
  {
   "cell_type": "markdown",
   "metadata": {
    "slideshow": {
     "slide_type": "slide"
    }
   },
   "source": [
    "### Clustering: Outlook\n",
    "\n",
    "k-means clustering is only one specific type of clustering algorithm. Other approaches include **hierarchical clustering**, and **density-based clustering**. \n",
    "\n",
    "Not all clustering approaches will work equally well on a specific dataset. Hence, after exploring and understanding the data, it is crucial to investigate which specific clustering approach (and its assumptions) best fit the data and the goal of the clustering. Furthermore, even for a specific clustering approach (e.g., agglomerative hierarchical clustering), different parameters can be chosen that fundamentally change the types and sizes of clusters that are being built. "
   ]
  }
 ],
 "metadata": {
  "celltoolbar": "Slideshow",
  "interpreter": {
   "hash": "2981dce05ec140a774f3ef0a6ec344bf2927c028c8e9c6b64295edbe14873f3d"
  },
  "kernelspec": {
   "display_name": "Python 3 (ipykernel)",
   "language": "python",
   "name": "python3"
  },
  "language_info": {
   "codemirror_mode": {
    "name": "ipython",
    "version": 3
   },
   "file_extension": ".py",
   "mimetype": "text/x-python",
   "name": "python",
   "nbconvert_exporter": "python",
   "pygments_lexer": "ipython3",
   "version": "3.10.6"
  }
 },
 "nbformat": 4,
 "nbformat_minor": 4
}
